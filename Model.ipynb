{
  "nbformat": 4,
  "nbformat_minor": 0,
  "metadata": {
    "colab": {
      "name": "Untitled0.ipynb",
      "provenance": [],
      "collapsed_sections": [
        "DzoUIWFvQmbu",
        "Rt63MHJIOsN2",
        "hlh-BKf1PrnF",
        "rbqHh0ehOyJe",
        "wapL248jPxA1",
        "SaQz-uMbAwrT",
        "yhDLYKmjAQ99",
        "7IY3IdgozR6V",
        "pcrkFpkDQUU_",
        "C6i_drKEQCUk",
        "F62JlPXbeFig",
        "mahFzocVtlAd",
        "cxApcDxlob4Z",
        "k-Sv_GdBRM8A",
        "P0bT4x6Sje3p",
        "d5aD660WReYW",
        "ld9Z3pZIRqg9",
        "PJN-Y2b0naSz",
        "6klYJgR7HOyX",
        "F36W8Ru8R3bI",
        "nd3AjQboS0VB",
        "V4KTDCy-S68O",
        "Dp26Tb3nTAO_",
        "pxJQJrbTTGzB",
        "Gs_8f1Ptiz3C"
      ],
      "mount_file_id": "1roqIvWC_AUZyEbiDrG8HT3liHgArN4yN",
      "authorship_tag": "ABX9TyNtDv0b5HaCZLDqPblxblJi",
      "include_colab_link": true
    },
    "kernelspec": {
      "name": "python3",
      "display_name": "Python 3"
    },
    "language_info": {
      "name": "python"
    }
  },
  "cells": [
    {
      "cell_type": "markdown",
      "metadata": {
        "id": "view-in-github",
        "colab_type": "text"
      },
      "source": [
        "<a href=\"https://colab.research.google.com/github/Osmanov-Bairam/MKB_BANK/blob/main/Model.ipynb\" target=\"_parent\"><img src=\"https://colab.research.google.com/assets/colab-badge.svg\" alt=\"Open In Colab\"/></a>"
      ]
    },
    {
      "cell_type": "markdown",
      "source": [
        "# Define the problem"
      ],
      "metadata": {
        "id": "DzoUIWFvQmbu"
      }
    },
    {
      "cell_type": "markdown",
      "source": [
        "Банковская гарантия — соглашение, по которому банк обязан выплатить долг клиента, если тот не выполнил своих обязательств. Выдача гарантий банком происходит после одобрения клиентской заявки.\n",
        "\n",
        "\n",
        "Задача — построить аппликационную модель оценки вероятности предъявления по гарантии, чтобы минимизировать потери от кредитного риска. В качестве предикторов для моделирования используются анкетные данные клиента и его финансовые показатели."
      ],
      "metadata": {
        "id": "qu-uS5SNTchP"
      }
    },
    {
      "cell_type": "markdown",
      "source": [
        "# Import libraries"
      ],
      "metadata": {
        "id": "Rt63MHJIOsN2"
      }
    },
    {
      "cell_type": "code",
      "source": [
        "!pip install scikit-learn-intelex"
      ],
      "metadata": {
        "colab": {
          "base_uri": "https://localhost:8080/"
        },
        "id": "5gnkXAWLpEG1",
        "outputId": "bd62ecea-a1e6-4785-80ab-726e43b1c9ba"
      },
      "execution_count": 1,
      "outputs": [
        {
          "output_type": "stream",
          "name": "stdout",
          "text": [
            "Collecting scikit-learn-intelex\n",
            "  Downloading scikit_learn_intelex-2021.5.1-py37-none-manylinux1_x86_64.whl (69 kB)\n",
            "\u001b[?25l\r\u001b[K     |████▊                           | 10 kB 25.5 MB/s eta 0:00:01\r\u001b[K     |█████████▍                      | 20 kB 12.8 MB/s eta 0:00:01\r\u001b[K     |██████████████                  | 30 kB 9.6 MB/s eta 0:00:01\r\u001b[K     |██████████████████▉             | 40 kB 8.5 MB/s eta 0:00:01\r\u001b[K     |███████████████████████▌        | 51 kB 5.4 MB/s eta 0:00:01\r\u001b[K     |████████████████████████████▏   | 61 kB 5.4 MB/s eta 0:00:01\r\u001b[K     |████████████████████████████████| 69 kB 3.2 MB/s \n",
            "\u001b[?25hCollecting daal4py==2021.5.1\n",
            "  Downloading daal4py-2021.5.1-py37-none-manylinux1_x86_64.whl (22.5 MB)\n",
            "\u001b[K     |████████████████████████████████| 22.5 MB 1.5 MB/s \n",
            "\u001b[?25hRequirement already satisfied: scikit-learn>=0.22 in /usr/local/lib/python3.7/dist-packages (from scikit-learn-intelex) (1.0.2)\n",
            "Requirement already satisfied: numpy>=1.15 in /usr/local/lib/python3.7/dist-packages (from daal4py==2021.5.1->scikit-learn-intelex) (1.19.5)\n",
            "Collecting daal==2021.5.1\n",
            "  Downloading daal-2021.5.1-py2.py3-none-manylinux1_x86_64.whl (284.3 MB)\n",
            "\u001b[K     |████████████████████████████████| 284.3 MB 2.1 kB/s \n",
            "\u001b[?25hCollecting tbb==2021.*\n",
            "  Downloading tbb-2021.4.0-py2.py3-none-manylinux1_x86_64.whl (4.0 MB)\n",
            "\u001b[K     |████████████████████████████████| 4.0 MB 51.3 MB/s \n",
            "\u001b[?25hRequirement already satisfied: scipy>=1.1.0 in /usr/local/lib/python3.7/dist-packages (from scikit-learn>=0.22->scikit-learn-intelex) (1.4.1)\n",
            "Requirement already satisfied: joblib>=0.11 in /usr/local/lib/python3.7/dist-packages (from scikit-learn>=0.22->scikit-learn-intelex) (1.1.0)\n",
            "Requirement already satisfied: threadpoolctl>=2.0.0 in /usr/local/lib/python3.7/dist-packages (from scikit-learn>=0.22->scikit-learn-intelex) (3.0.0)\n",
            "Installing collected packages: tbb, daal, daal4py, scikit-learn-intelex\n",
            "Successfully installed daal-2021.5.1 daal4py-2021.5.1 scikit-learn-intelex-2021.5.1 tbb-2021.4.0\n"
          ]
        }
      ]
    },
    {
      "cell_type": "code",
      "source": [
        "!pip install catboost"
      ],
      "metadata": {
        "colab": {
          "base_uri": "https://localhost:8080/"
        },
        "id": "5IhwNj_qpEuh",
        "outputId": "f056132f-9d0e-4541-9597-1acd97a3c144"
      },
      "execution_count": 2,
      "outputs": [
        {
          "output_type": "stream",
          "name": "stdout",
          "text": [
            "Collecting catboost\n",
            "  Downloading catboost-1.0.4-cp37-none-manylinux1_x86_64.whl (76.1 MB)\n",
            "\u001b[K     |████████████████████████████████| 76.1 MB 58 kB/s \n",
            "\u001b[?25hRequirement already satisfied: plotly in /usr/local/lib/python3.7/dist-packages (from catboost) (4.4.1)\n",
            "Requirement already satisfied: numpy>=1.16.0 in /usr/local/lib/python3.7/dist-packages (from catboost) (1.19.5)\n",
            "Requirement already satisfied: six in /usr/local/lib/python3.7/dist-packages (from catboost) (1.15.0)\n",
            "Requirement already satisfied: graphviz in /usr/local/lib/python3.7/dist-packages (from catboost) (0.10.1)\n",
            "Requirement already satisfied: matplotlib in /usr/local/lib/python3.7/dist-packages (from catboost) (3.2.2)\n",
            "Requirement already satisfied: scipy in /usr/local/lib/python3.7/dist-packages (from catboost) (1.4.1)\n",
            "Requirement already satisfied: pandas>=0.24.0 in /usr/local/lib/python3.7/dist-packages (from catboost) (1.1.5)\n",
            "Requirement already satisfied: pytz>=2017.2 in /usr/local/lib/python3.7/dist-packages (from pandas>=0.24.0->catboost) (2018.9)\n",
            "Requirement already satisfied: python-dateutil>=2.7.3 in /usr/local/lib/python3.7/dist-packages (from pandas>=0.24.0->catboost) (2.8.2)\n",
            "Requirement already satisfied: pyparsing!=2.0.4,!=2.1.2,!=2.1.6,>=2.0.1 in /usr/local/lib/python3.7/dist-packages (from matplotlib->catboost) (3.0.6)\n",
            "Requirement already satisfied: kiwisolver>=1.0.1 in /usr/local/lib/python3.7/dist-packages (from matplotlib->catboost) (1.3.2)\n",
            "Requirement already satisfied: cycler>=0.10 in /usr/local/lib/python3.7/dist-packages (from matplotlib->catboost) (0.11.0)\n",
            "Requirement already satisfied: retrying>=1.3.3 in /usr/local/lib/python3.7/dist-packages (from plotly->catboost) (1.3.3)\n",
            "Installing collected packages: catboost\n",
            "Successfully installed catboost-1.0.4\n"
          ]
        }
      ]
    },
    {
      "cell_type": "code",
      "source": [
        "!pip install shap"
      ],
      "metadata": {
        "colab": {
          "base_uri": "https://localhost:8080/"
        },
        "id": "uTWFI94hzrv9",
        "outputId": "6fbd8d2c-d66b-4f2a-9e7f-602b84a49c54"
      },
      "execution_count": 3,
      "outputs": [
        {
          "output_type": "stream",
          "name": "stdout",
          "text": [
            "Collecting shap\n",
            "  Downloading shap-0.40.0-cp37-cp37m-manylinux2010_x86_64.whl (564 kB)\n",
            "\u001b[?25l\r\u001b[K     |▋                               | 10 kB 24.1 MB/s eta 0:00:01\r\u001b[K     |█▏                              | 20 kB 10.5 MB/s eta 0:00:01\r\u001b[K     |█▊                              | 30 kB 8.5 MB/s eta 0:00:01\r\u001b[K     |██▎                             | 40 kB 7.5 MB/s eta 0:00:01\r\u001b[K     |███                             | 51 kB 4.8 MB/s eta 0:00:01\r\u001b[K     |███▌                            | 61 kB 5.0 MB/s eta 0:00:01\r\u001b[K     |████                            | 71 kB 5.2 MB/s eta 0:00:01\r\u001b[K     |████▋                           | 81 kB 5.8 MB/s eta 0:00:01\r\u001b[K     |█████▏                          | 92 kB 4.5 MB/s eta 0:00:01\r\u001b[K     |█████▉                          | 102 kB 4.9 MB/s eta 0:00:01\r\u001b[K     |██████▍                         | 112 kB 4.9 MB/s eta 0:00:01\r\u001b[K     |███████                         | 122 kB 4.9 MB/s eta 0:00:01\r\u001b[K     |███████▌                        | 133 kB 4.9 MB/s eta 0:00:01\r\u001b[K     |████████▏                       | 143 kB 4.9 MB/s eta 0:00:01\r\u001b[K     |████████▊                       | 153 kB 4.9 MB/s eta 0:00:01\r\u001b[K     |█████████▎                      | 163 kB 4.9 MB/s eta 0:00:01\r\u001b[K     |█████████▉                      | 174 kB 4.9 MB/s eta 0:00:01\r\u001b[K     |██████████▍                     | 184 kB 4.9 MB/s eta 0:00:01\r\u001b[K     |███████████                     | 194 kB 4.9 MB/s eta 0:00:01\r\u001b[K     |███████████▋                    | 204 kB 4.9 MB/s eta 0:00:01\r\u001b[K     |████████████▏                   | 215 kB 4.9 MB/s eta 0:00:01\r\u001b[K     |████████████▊                   | 225 kB 4.9 MB/s eta 0:00:01\r\u001b[K     |█████████████▍                  | 235 kB 4.9 MB/s eta 0:00:01\r\u001b[K     |██████████████                  | 245 kB 4.9 MB/s eta 0:00:01\r\u001b[K     |██████████████▌                 | 256 kB 4.9 MB/s eta 0:00:01\r\u001b[K     |███████████████                 | 266 kB 4.9 MB/s eta 0:00:01\r\u001b[K     |███████████████▋                | 276 kB 4.9 MB/s eta 0:00:01\r\u001b[K     |████████████████▎               | 286 kB 4.9 MB/s eta 0:00:01\r\u001b[K     |████████████████▉               | 296 kB 4.9 MB/s eta 0:00:01\r\u001b[K     |█████████████████▍              | 307 kB 4.9 MB/s eta 0:00:01\r\u001b[K     |██████████████████              | 317 kB 4.9 MB/s eta 0:00:01\r\u001b[K     |██████████████████▋             | 327 kB 4.9 MB/s eta 0:00:01\r\u001b[K     |███████████████████▏            | 337 kB 4.9 MB/s eta 0:00:01\r\u001b[K     |███████████████████▊            | 348 kB 4.9 MB/s eta 0:00:01\r\u001b[K     |████████████████████▎           | 358 kB 4.9 MB/s eta 0:00:01\r\u001b[K     |████████████████████▉           | 368 kB 4.9 MB/s eta 0:00:01\r\u001b[K     |█████████████████████▌          | 378 kB 4.9 MB/s eta 0:00:01\r\u001b[K     |██████████████████████          | 389 kB 4.9 MB/s eta 0:00:01\r\u001b[K     |██████████████████████▋         | 399 kB 4.9 MB/s eta 0:00:01\r\u001b[K     |███████████████████████▏        | 409 kB 4.9 MB/s eta 0:00:01\r\u001b[K     |███████████████████████▉        | 419 kB 4.9 MB/s eta 0:00:01\r\u001b[K     |████████████████████████▍       | 430 kB 4.9 MB/s eta 0:00:01\r\u001b[K     |█████████████████████████       | 440 kB 4.9 MB/s eta 0:00:01\r\u001b[K     |█████████████████████████▌      | 450 kB 4.9 MB/s eta 0:00:01\r\u001b[K     |██████████████████████████      | 460 kB 4.9 MB/s eta 0:00:01\r\u001b[K     |██████████████████████████▊     | 471 kB 4.9 MB/s eta 0:00:01\r\u001b[K     |███████████████████████████▎    | 481 kB 4.9 MB/s eta 0:00:01\r\u001b[K     |███████████████████████████▉    | 491 kB 4.9 MB/s eta 0:00:01\r\u001b[K     |████████████████████████████▍   | 501 kB 4.9 MB/s eta 0:00:01\r\u001b[K     |█████████████████████████████   | 512 kB 4.9 MB/s eta 0:00:01\r\u001b[K     |█████████████████████████████▋  | 522 kB 4.9 MB/s eta 0:00:01\r\u001b[K     |██████████████████████████████▏ | 532 kB 4.9 MB/s eta 0:00:01\r\u001b[K     |██████████████████████████████▊ | 542 kB 4.9 MB/s eta 0:00:01\r\u001b[K     |███████████████████████████████▎| 552 kB 4.9 MB/s eta 0:00:01\r\u001b[K     |████████████████████████████████| 563 kB 4.9 MB/s eta 0:00:01\r\u001b[K     |████████████████████████████████| 564 kB 4.9 MB/s \n",
            "\u001b[?25hRequirement already satisfied: numpy in /usr/local/lib/python3.7/dist-packages (from shap) (1.19.5)\n",
            "Requirement already satisfied: packaging>20.9 in /usr/local/lib/python3.7/dist-packages (from shap) (21.3)\n",
            "Requirement already satisfied: scikit-learn in /usr/local/lib/python3.7/dist-packages (from shap) (1.0.2)\n",
            "Collecting slicer==0.0.7\n",
            "  Downloading slicer-0.0.7-py3-none-any.whl (14 kB)\n",
            "Requirement already satisfied: pandas in /usr/local/lib/python3.7/dist-packages (from shap) (1.1.5)\n",
            "Requirement already satisfied: tqdm>4.25.0 in /usr/local/lib/python3.7/dist-packages (from shap) (4.62.3)\n",
            "Requirement already satisfied: cloudpickle in /usr/local/lib/python3.7/dist-packages (from shap) (1.3.0)\n",
            "Requirement already satisfied: numba in /usr/local/lib/python3.7/dist-packages (from shap) (0.51.2)\n",
            "Requirement already satisfied: scipy in /usr/local/lib/python3.7/dist-packages (from shap) (1.4.1)\n",
            "Requirement already satisfied: pyparsing!=3.0.5,>=2.0.2 in /usr/local/lib/python3.7/dist-packages (from packaging>20.9->shap) (3.0.6)\n",
            "Requirement already satisfied: llvmlite<0.35,>=0.34.0.dev0 in /usr/local/lib/python3.7/dist-packages (from numba->shap) (0.34.0)\n",
            "Requirement already satisfied: setuptools in /usr/local/lib/python3.7/dist-packages (from numba->shap) (57.4.0)\n",
            "Requirement already satisfied: python-dateutil>=2.7.3 in /usr/local/lib/python3.7/dist-packages (from pandas->shap) (2.8.2)\n",
            "Requirement already satisfied: pytz>=2017.2 in /usr/local/lib/python3.7/dist-packages (from pandas->shap) (2018.9)\n",
            "Requirement already satisfied: six>=1.5 in /usr/local/lib/python3.7/dist-packages (from python-dateutil>=2.7.3->pandas->shap) (1.15.0)\n",
            "Requirement already satisfied: threadpoolctl>=2.0.0 in /usr/local/lib/python3.7/dist-packages (from scikit-learn->shap) (3.0.0)\n",
            "Requirement already satisfied: joblib>=0.11 in /usr/local/lib/python3.7/dist-packages (from scikit-learn->shap) (1.1.0)\n",
            "Installing collected packages: slicer, shap\n",
            "Successfully installed shap-0.40.0 slicer-0.0.7\n"
          ]
        }
      ]
    },
    {
      "cell_type": "code",
      "source": [
        "\n",
        "#load packages\n",
        "import sys #access to system parameters https://docs.python.org/3/library/sys.html\n",
        "print(\"Python version: {}\". format(sys.version))\n",
        "\n",
        "import pandas as pd #collection of functions for data processing and analysis modeled after R dataframes with SQL like features\n",
        "print(\"pandas version: {}\". format(pd.__version__))\n",
        "\n",
        "import matplotlib #collection of functions for scientific and publication-ready visualization\n",
        "print(\"matplotlib version: {}\". format(matplotlib.__version__))\n",
        "\n",
        "import numpy as np #foundational package for scientific computing\n",
        "print(\"NumPy version: {}\". format(np.__version__))\n",
        "\n",
        "import scipy as sp #collection of functions for scientific computing and advance mathematics\n",
        "print(\"SciPy version: {}\". format(sp.__version__)) \n",
        "\n",
        "import IPython\n",
        "from IPython import display #pretty printing of dataframes in Jupyter notebook\n",
        "print(\"IPython version: {}\". format(IPython.__version__)) \n",
        "\n",
        "import sklearn #collection of machine learning algorithms\n",
        "print(\"scikit-learn version: {}\". format(sklearn.__version__))\n",
        "\n",
        "#ignore warnings\n",
        "import warnings\n",
        "warnings.filterwarnings('ignore')\n",
        "print('-'*25)"
      ],
      "metadata": {
        "colab": {
          "base_uri": "https://localhost:8080/"
        },
        "id": "I8vFy5nsTycz",
        "outputId": "4fe498c5-b86a-4dd5-88a6-1f7647bad867"
      },
      "execution_count": 4,
      "outputs": [
        {
          "output_type": "stream",
          "name": "stdout",
          "text": [
            "Python version: 3.7.12 (default, Sep 10 2021, 00:21:48) \n",
            "[GCC 7.5.0]\n",
            "pandas version: 1.1.5\n",
            "matplotlib version: 3.2.2\n",
            "NumPy version: 1.19.5\n",
            "SciPy version: 1.4.1\n",
            "IPython version: 5.5.0\n",
            "scikit-learn version: 1.0.2\n",
            "-------------------------\n"
          ]
        }
      ]
    },
    {
      "cell_type": "code",
      "source": [
        "#other libraries\n",
        "import random\n",
        "import time\n",
        "import os\n",
        "import requests\n",
        "import collections\n",
        "import pickle\n",
        "from tqdm import tqdm"
      ],
      "metadata": {
        "id": "E7NWTar-JLT2"
      },
      "execution_count": 5,
      "outputs": []
    },
    {
      "cell_type": "code",
      "source": [
        "#Common Model Algorithms\n",
        "from sklearn import svm, tree, linear_model, neighbors, naive_bayes, ensemble, discriminant_analysis, gaussian_process\n",
        "from xgboost import XGBClassifier\n",
        "\n",
        "#Common Model Helpers\n",
        "from sklearn.preprocessing import OneHotEncoder, LabelEncoder\n",
        "from sklearn import feature_selection\n",
        "from sklearn import model_selection\n",
        "from sklearn import metrics\n",
        "from sklearn.pipeline import Pipeline\n",
        "\n",
        "#Uncommon Model Algorithms\n",
        "from catboost import CatBoostClassifier, Pool, metrics, cv\n",
        "from sklearn.metrics import accuracy_score\n",
        "from catboost import Pool\n",
        "\n",
        "# to split the datasets\n",
        "from sklearn.model_selection import train_test_split\n",
        "\n",
        "#Visualization\n",
        "import matplotlib as mpl\n",
        "import matplotlib.pyplot as plt\n",
        "import matplotlib.pylab as pylab\n",
        "import seaborn as sns\n",
        "# from pandas.tools.plotting import scatter_matrix\n",
        "import missingno as msno\n"
      ],
      "metadata": {
        "id": "4WYN46uxW7Fh"
      },
      "execution_count": 6,
      "outputs": []
    },
    {
      "cell_type": "code",
      "source": [
        "# from feature-engine\n",
        "\n",
        "! pip install feature-engine"
      ],
      "metadata": {
        "colab": {
          "base_uri": "https://localhost:8080/",
          "height": 0
        },
        "id": "oIyLU36of6BH",
        "outputId": "d835f52d-905b-4cc4-92f2-54ac1c1726b8"
      },
      "execution_count": 7,
      "outputs": [
        {
          "output_type": "stream",
          "name": "stdout",
          "text": [
            "Collecting feature-engine\n",
            "  Downloading feature_engine-1.2.0-py2.py3-none-any.whl (205 kB)\n",
            "\u001b[K     |████████████████████████████████| 205 kB 5.1 MB/s \n",
            "\u001b[?25hCollecting statsmodels>=0.11.1\n",
            "  Downloading statsmodels-0.13.1-cp37-cp37m-manylinux_2_17_x86_64.manylinux2014_x86_64.whl (9.8 MB)\n",
            "\u001b[K     |████████████████████████████████| 9.8 MB 47.3 MB/s \n",
            "\u001b[?25hRequirement already satisfied: scipy>=1.4.1 in /usr/local/lib/python3.7/dist-packages (from feature-engine) (1.4.1)\n",
            "Requirement already satisfied: pandas>=1.0.3 in /usr/local/lib/python3.7/dist-packages (from feature-engine) (1.1.5)\n",
            "Requirement already satisfied: scikit-learn>=0.22.2 in /usr/local/lib/python3.7/dist-packages (from feature-engine) (1.0.2)\n",
            "Requirement already satisfied: numpy>=1.18.2 in /usr/local/lib/python3.7/dist-packages (from feature-engine) (1.19.5)\n",
            "Requirement already satisfied: pytz>=2017.2 in /usr/local/lib/python3.7/dist-packages (from pandas>=1.0.3->feature-engine) (2018.9)\n",
            "Requirement already satisfied: python-dateutil>=2.7.3 in /usr/local/lib/python3.7/dist-packages (from pandas>=1.0.3->feature-engine) (2.8.2)\n",
            "Requirement already satisfied: six>=1.5 in /usr/local/lib/python3.7/dist-packages (from python-dateutil>=2.7.3->pandas>=1.0.3->feature-engine) (1.15.0)\n",
            "Requirement already satisfied: threadpoolctl>=2.0.0 in /usr/local/lib/python3.7/dist-packages (from scikit-learn>=0.22.2->feature-engine) (3.0.0)\n",
            "Requirement already satisfied: joblib>=0.11 in /usr/local/lib/python3.7/dist-packages (from scikit-learn>=0.22.2->feature-engine) (1.1.0)\n",
            "Requirement already satisfied: patsy>=0.5.2 in /usr/local/lib/python3.7/dist-packages (from statsmodels>=0.11.1->feature-engine) (0.5.2)\n",
            "Installing collected packages: statsmodels, feature-engine\n",
            "  Attempting uninstall: statsmodels\n",
            "    Found existing installation: statsmodels 0.10.2\n",
            "    Uninstalling statsmodels-0.10.2:\n",
            "      Successfully uninstalled statsmodels-0.10.2\n",
            "Successfully installed feature-engine-1.2.0 statsmodels-0.13.1\n"
          ]
        },
        {
          "output_type": "display_data",
          "data": {
            "application/vnd.colab-display-data+json": {
              "pip_warning": {
                "packages": [
                  "statsmodels"
                ]
              }
            }
          },
          "metadata": {}
        }
      ]
    },
    {
      "cell_type": "code",
      "source": [
        "# from feature-engine\n",
        "from feature_engine.imputation import (\n",
        "    AddMissingIndicator,\n",
        "    RandomSampleImputer,\n",
        ")"
      ],
      "metadata": {
        "id": "spEgseqAfyVx"
      },
      "execution_count": 8,
      "outputs": []
    },
    {
      "cell_type": "markdown",
      "source": [
        "# Presetting"
      ],
      "metadata": {
        "id": "hlh-BKf1PrnF"
      }
    },
    {
      "cell_type": "code",
      "source": [
        "#Configure Visualization Defaults\n",
        "#%matplotlib inline = show plots in Jupyter Notebook browser\n",
        "%matplotlib inline\n",
        "\n",
        "mpl.style.use('ggplot')\n",
        "sns.set_style('white')\n",
        "pylab.rcParams['figure.figsize'] = 12,8"
      ],
      "metadata": {
        "id": "IPZ1s-Xfor57"
      },
      "execution_count": 9,
      "outputs": []
    },
    {
      "cell_type": "code",
      "source": [
        "# To plot pretty figures\n",
        "\n",
        "%matplotlib inline\n",
        "import matplotlib as mpl\n",
        "import matplotlib.pyplot as plt\n",
        "mpl.rc('axes', labelsize=14)\n",
        "mpl.rc('xtick', labelsize=12)\n",
        "mpl.rc('ytick', labelsize=12)"
      ],
      "metadata": {
        "id": "vibLnf7pUJ9Z"
      },
      "execution_count": 10,
      "outputs": []
    },
    {
      "cell_type": "code",
      "source": [
        "# Connect to google drive\n",
        "\n",
        "from google.colab import drive\n",
        "drive.mount('/content/gdrive', force_remount=True)"
      ],
      "metadata": {
        "colab": {
          "base_uri": "https://localhost:8080/"
        },
        "id": "ID-wy4uKUO8W",
        "outputId": "b19f145c-a58d-438d-8fcf-12de6e61d31d"
      },
      "execution_count": 11,
      "outputs": [
        {
          "output_type": "stream",
          "name": "stdout",
          "text": [
            "Mounted at /content/gdrive\n"
          ]
        }
      ]
    },
    {
      "cell_type": "code",
      "source": [
        "# Where to save the figures\n",
        "\n",
        "IMAGES_PATH = \"/content/gdrive/MyDrive/Plots\"\n",
        "\n",
        "def save_fig(fig_id, tight_layout=True, fig_extension=\"png\", resolution=300):\n",
        "    path = os.path.join(IMAGES_PATH, fig_id + \".\" + fig_extension)\n",
        "    print(\"Saving figure\", fig_id)\n",
        "    if tight_layout:\n",
        "        plt.tight_layout()\n",
        "    plt.savefig(path, format=fig_extension, dpi=resolution)"
      ],
      "metadata": {
        "id": "qIJYirJdU_EC"
      },
      "execution_count": 12,
      "outputs": []
    },
    {
      "cell_type": "code",
      "source": [
        "path_pikcle = \"/content/gdrive/MyDrive/Dataset/Pickles\""
      ],
      "metadata": {
        "id": "qMuZY67ze_xE"
      },
      "execution_count": 13,
      "outputs": []
    },
    {
      "cell_type": "markdown",
      "source": [
        "# Gather & Import the data"
      ],
      "metadata": {
        "id": "rbqHh0ehOyJe"
      }
    },
    {
      "cell_type": "code",
      "source": [
        "path_data = \"/content/gdrive/MyDrive/Dataset/Bank_Data/train_dataset_hackathon_mkb.csv\"\n",
        "data = pd.read_csv(path_data,  sep=';', encoding ='cp1251')"
      ],
      "metadata": {
        "id": "PMo1hFQd6cqR"
      },
      "execution_count": null,
      "outputs": []
    },
    {
      "cell_type": "code",
      "source": [
        "path_decrib = \"/content/gdrive/MyDrive/Dataset/Bank_Data/data_description.xlsx\"\n",
        "describ = pd.read_excel(path_decrib)"
      ],
      "metadata": {
        "id": "0rMj-cfxl_rh"
      },
      "execution_count": null,
      "outputs": []
    },
    {
      "cell_type": "markdown",
      "source": [
        "# Meet and Greet Data"
      ],
      "metadata": {
        "id": "wapL248jPxA1"
      }
    },
    {
      "cell_type": "code",
      "source": [
        "data.head()"
      ],
      "metadata": {
        "id": "zgrRUMUu7jYD",
        "colab": {
          "base_uri": "https://localhost:8080/"
        },
        "outputId": "4d20dfa2-b3b7-4b00-a6a2-2e40a046c0c6"
      },
      "execution_count": null,
      "outputs": [
        {
          "output_type": "execute_result",
          "data": {
            "text/html": [
              "\n",
              "  <div id=\"df-b4ca12b5-760f-40ee-9c71-d4085f49735e\">\n",
              "    <div class=\"colab-df-container\">\n",
              "      <div>\n",
              "<style scoped>\n",
              "    .dataframe tbody tr th:only-of-type {\n",
              "        vertical-align: middle;\n",
              "    }\n",
              "\n",
              "    .dataframe tbody tr th {\n",
              "        vertical-align: top;\n",
              "    }\n",
              "\n",
              "    .dataframe thead th {\n",
              "        text-align: right;\n",
              "    }\n",
              "</style>\n",
              "<table border=\"1\" class=\"dataframe\">\n",
              "  <thead>\n",
              "    <tr style=\"text-align: right;\">\n",
              "      <th></th>\n",
              "      <th>id_contract</th>\n",
              "      <th>id_client</th>\n",
              "      <th>SIGN_DATE</th>\n",
              "      <th>IP_flag</th>\n",
              "      <th>TARGET</th>\n",
              "      <th>F1100</th>\n",
              "      <th>F1110</th>\n",
              "      <th>F1150</th>\n",
              "      <th>F1160</th>\n",
              "      <th>F1170</th>\n",
              "      <th>F1180</th>\n",
              "      <th>F1190</th>\n",
              "      <th>F1200</th>\n",
              "      <th>F1210</th>\n",
              "      <th>F1220</th>\n",
              "      <th>F1230</th>\n",
              "      <th>F1240</th>\n",
              "      <th>F1250</th>\n",
              "      <th>F1260</th>\n",
              "      <th>F1300</th>\n",
              "      <th>F1310</th>\n",
              "      <th>F1320</th>\n",
              "      <th>F1350</th>\n",
              "      <th>F1360</th>\n",
              "      <th>F1370</th>\n",
              "      <th>F1400</th>\n",
              "      <th>F1410</th>\n",
              "      <th>F1420</th>\n",
              "      <th>F1450</th>\n",
              "      <th>F1500</th>\n",
              "      <th>F1510</th>\n",
              "      <th>F1520</th>\n",
              "      <th>F1530</th>\n",
              "      <th>F1550</th>\n",
              "      <th>F1600</th>\n",
              "      <th>F1700</th>\n",
              "      <th>F2100</th>\n",
              "      <th>F2110</th>\n",
              "      <th>F2120</th>\n",
              "      <th>F2200</th>\n",
              "      <th>...</th>\n",
              "      <th>MANAGERCOUNTINREGION</th>\n",
              "      <th>MANAGERINNCOUNT</th>\n",
              "      <th>OKVED_CODE</th>\n",
              "      <th>PLAINTIFF_CASESNUMBER_YEAR</th>\n",
              "      <th>PLAINTIFF_SUM_YEAR</th>\n",
              "      <th>DEFENDANT_CASESNUMBER_YEAR</th>\n",
              "      <th>DEFENDANT_SUM_YEAR</th>\n",
              "      <th>THIRDOROTHERPERSON_YEAR</th>\n",
              "      <th>PLAINTIFF_CASESNUMBER_EVER</th>\n",
              "      <th>PLAINTIFF_SUM_EVER</th>\n",
              "      <th>DEFENDANT_CASESNUMBER_EVER</th>\n",
              "      <th>DEFENDANT_SUM_EVER</th>\n",
              "      <th>THIRDOROTHERPERSON_EVER</th>\n",
              "      <th>ADMITTEDNUMBER_233_YEAR</th>\n",
              "      <th>NOTADMITTEDNUMBER_233_YEAR</th>\n",
              "      <th>WINNERNUMBER_233_YEAR</th>\n",
              "      <th>SIGNEDNUMBER_233_YEAR</th>\n",
              "      <th>SUM_233_YEAR</th>\n",
              "      <th>ADMITTEDNUMBER_233_EVER</th>\n",
              "      <th>NOTADMITTEDNUMBER_233_EVER</th>\n",
              "      <th>WINNERNUMBER_233_EVER</th>\n",
              "      <th>SIGNEDNUMBER_233_EVER</th>\n",
              "      <th>SUM_233_EVER</th>\n",
              "      <th>ADMITTEDNUMBER_95_YEAR</th>\n",
              "      <th>NOTADMITTEDNUMBER_95_YEAR</th>\n",
              "      <th>WINNERNUMBER_95_YEAR</th>\n",
              "      <th>SIGNEDNUMBER_95_YEAR</th>\n",
              "      <th>SUM_95_YEAR</th>\n",
              "      <th>ADMITTEDNUMBER_95_EVER</th>\n",
              "      <th>NOTADMITTEDNUMBER_EVER</th>\n",
              "      <th>WINNERNUMBER_95_EVER</th>\n",
              "      <th>SIGNEDNUMBER_95_EVER</th>\n",
              "      <th>SUM_95_EVER</th>\n",
              "      <th>FLAG_DISQUALIFICATION</th>\n",
              "      <th>COUNT_CHANGE_YEAR</th>\n",
              "      <th>COUNT_CHANGE_EVER</th>\n",
              "      <th>BIRTHDATE</th>\n",
              "      <th>AGE</th>\n",
              "      <th>SEX_NAME</th>\n",
              "      <th>CITIZENSHIP_NAME</th>\n",
              "    </tr>\n",
              "  </thead>\n",
              "  <tbody>\n",
              "    <tr>\n",
              "      <th>0</th>\n",
              "      <td>1</td>\n",
              "      <td>1847</td>\n",
              "      <td>01JAN2018:00:00:00</td>\n",
              "      <td>0</td>\n",
              "      <td>0</td>\n",
              "      <td>1.298961e+09</td>\n",
              "      <td>2154000.0</td>\n",
              "      <td>1.125573e+09</td>\n",
              "      <td>NaN</td>\n",
              "      <td>150010000.0</td>\n",
              "      <td>NaN</td>\n",
              "      <td>21224000.0</td>\n",
              "      <td>1.048287e+10</td>\n",
              "      <td>105901000.0</td>\n",
              "      <td>127510000.0</td>\n",
              "      <td>9.477348e+09</td>\n",
              "      <td>440671000.0</td>\n",
              "      <td>3.312980e+08</td>\n",
              "      <td>138000.0</td>\n",
              "      <td>1.960896e+09</td>\n",
              "      <td>1.000700e+07</td>\n",
              "      <td>-46634000.0</td>\n",
              "      <td>599497000.0</td>\n",
              "      <td>500000.0</td>\n",
              "      <td>1.028878e+09</td>\n",
              "      <td>340135000.0</td>\n",
              "      <td>NaN</td>\n",
              "      <td>340135000.0</td>\n",
              "      <td>NaN</td>\n",
              "      <td>9.480796e+09</td>\n",
              "      <td>2.499973e+09</td>\n",
              "      <td>6.907960e+09</td>\n",
              "      <td>NaN</td>\n",
              "      <td>NaN</td>\n",
              "      <td>1.178183e+10</td>\n",
              "      <td>1.178183e+10</td>\n",
              "      <td>2.370882e+09</td>\n",
              "      <td>5.294104e+10</td>\n",
              "      <td>5.057016e+10</td>\n",
              "      <td>631752000.0</td>\n",
              "      <td>...</td>\n",
              "      <td>0.0</td>\n",
              "      <td>0.0</td>\n",
              "      <td>35.14</td>\n",
              "      <td>NaN</td>\n",
              "      <td>NaN</td>\n",
              "      <td>NaN</td>\n",
              "      <td>NaN</td>\n",
              "      <td>NaN</td>\n",
              "      <td>NaN</td>\n",
              "      <td>NaN</td>\n",
              "      <td>NaN</td>\n",
              "      <td>NaN</td>\n",
              "      <td>NaN</td>\n",
              "      <td>NaN</td>\n",
              "      <td>NaN</td>\n",
              "      <td>NaN</td>\n",
              "      <td>NaN</td>\n",
              "      <td>NaN</td>\n",
              "      <td>NaN</td>\n",
              "      <td>NaN</td>\n",
              "      <td>NaN</td>\n",
              "      <td>NaN</td>\n",
              "      <td>NaN</td>\n",
              "      <td>NaN</td>\n",
              "      <td>NaN</td>\n",
              "      <td>NaN</td>\n",
              "      <td>NaN</td>\n",
              "      <td>NaN</td>\n",
              "      <td>NaN</td>\n",
              "      <td>NaN</td>\n",
              "      <td>NaN</td>\n",
              "      <td>NaN</td>\n",
              "      <td>NaN</td>\n",
              "      <td>NaN</td>\n",
              "      <td>NaN</td>\n",
              "      <td>NaN</td>\n",
              "      <td>NaN</td>\n",
              "      <td>NaN</td>\n",
              "      <td>NaN</td>\n",
              "      <td>NaN</td>\n",
              "    </tr>\n",
              "    <tr>\n",
              "      <th>1</th>\n",
              "      <td>2</td>\n",
              "      <td>4650</td>\n",
              "      <td>01JAN2018:00:00:00</td>\n",
              "      <td>1</td>\n",
              "      <td>0</td>\n",
              "      <td>NaN</td>\n",
              "      <td>NaN</td>\n",
              "      <td>NaN</td>\n",
              "      <td>NaN</td>\n",
              "      <td>NaN</td>\n",
              "      <td>NaN</td>\n",
              "      <td>NaN</td>\n",
              "      <td>NaN</td>\n",
              "      <td>NaN</td>\n",
              "      <td>NaN</td>\n",
              "      <td>NaN</td>\n",
              "      <td>NaN</td>\n",
              "      <td>NaN</td>\n",
              "      <td>NaN</td>\n",
              "      <td>NaN</td>\n",
              "      <td>NaN</td>\n",
              "      <td>NaN</td>\n",
              "      <td>NaN</td>\n",
              "      <td>NaN</td>\n",
              "      <td>NaN</td>\n",
              "      <td>NaN</td>\n",
              "      <td>NaN</td>\n",
              "      <td>NaN</td>\n",
              "      <td>NaN</td>\n",
              "      <td>NaN</td>\n",
              "      <td>NaN</td>\n",
              "      <td>NaN</td>\n",
              "      <td>NaN</td>\n",
              "      <td>NaN</td>\n",
              "      <td>NaN</td>\n",
              "      <td>NaN</td>\n",
              "      <td>NaN</td>\n",
              "      <td>NaN</td>\n",
              "      <td>NaN</td>\n",
              "      <td>NaN</td>\n",
              "      <td>...</td>\n",
              "      <td>NaN</td>\n",
              "      <td>NaN</td>\n",
              "      <td>NaN</td>\n",
              "      <td>NaN</td>\n",
              "      <td>NaN</td>\n",
              "      <td>NaN</td>\n",
              "      <td>NaN</td>\n",
              "      <td>NaN</td>\n",
              "      <td>NaN</td>\n",
              "      <td>NaN</td>\n",
              "      <td>NaN</td>\n",
              "      <td>NaN</td>\n",
              "      <td>NaN</td>\n",
              "      <td>NaN</td>\n",
              "      <td>NaN</td>\n",
              "      <td>NaN</td>\n",
              "      <td>NaN</td>\n",
              "      <td>NaN</td>\n",
              "      <td>NaN</td>\n",
              "      <td>NaN</td>\n",
              "      <td>NaN</td>\n",
              "      <td>NaN</td>\n",
              "      <td>NaN</td>\n",
              "      <td>NaN</td>\n",
              "      <td>NaN</td>\n",
              "      <td>NaN</td>\n",
              "      <td>NaN</td>\n",
              "      <td>NaN</td>\n",
              "      <td>NaN</td>\n",
              "      <td>NaN</td>\n",
              "      <td>NaN</td>\n",
              "      <td>NaN</td>\n",
              "      <td>NaN</td>\n",
              "      <td>NaN</td>\n",
              "      <td>NaN</td>\n",
              "      <td>NaN</td>\n",
              "      <td>NaN</td>\n",
              "      <td>NaN</td>\n",
              "      <td>NaN</td>\n",
              "      <td>NaN</td>\n",
              "    </tr>\n",
              "    <tr>\n",
              "      <th>2</th>\n",
              "      <td>3</td>\n",
              "      <td>4770</td>\n",
              "      <td>01JAN2018:00:00:00</td>\n",
              "      <td>0</td>\n",
              "      <td>0</td>\n",
              "      <td>7.337400e+07</td>\n",
              "      <td>NaN</td>\n",
              "      <td>7.337400e+07</td>\n",
              "      <td>NaN</td>\n",
              "      <td>NaN</td>\n",
              "      <td>NaN</td>\n",
              "      <td>NaN</td>\n",
              "      <td>2.161000e+07</td>\n",
              "      <td>2378000.0</td>\n",
              "      <td>NaN</td>\n",
              "      <td>1.764200e+07</td>\n",
              "      <td>1000000.0</td>\n",
              "      <td>5.530000e+05</td>\n",
              "      <td>37000.0</td>\n",
              "      <td>9.073600e+07</td>\n",
              "      <td>1.000000e+05</td>\n",
              "      <td>NaN</td>\n",
              "      <td>6780000.0</td>\n",
              "      <td>NaN</td>\n",
              "      <td>8.385600e+07</td>\n",
              "      <td>NaN</td>\n",
              "      <td>NaN</td>\n",
              "      <td>NaN</td>\n",
              "      <td>NaN</td>\n",
              "      <td>4.248000e+06</td>\n",
              "      <td>NaN</td>\n",
              "      <td>4.171000e+06</td>\n",
              "      <td>77000.0</td>\n",
              "      <td>NaN</td>\n",
              "      <td>9.498400e+07</td>\n",
              "      <td>9.498400e+07</td>\n",
              "      <td>9.315000e+06</td>\n",
              "      <td>5.218400e+07</td>\n",
              "      <td>4.286900e+07</td>\n",
              "      <td>2569000.0</td>\n",
              "      <td>...</td>\n",
              "      <td>1.0</td>\n",
              "      <td>1.0</td>\n",
              "      <td>36.00.2</td>\n",
              "      <td>6.0</td>\n",
              "      <td>2762852.0</td>\n",
              "      <td>1.0</td>\n",
              "      <td>794.0</td>\n",
              "      <td>3.0</td>\n",
              "      <td>21.0</td>\n",
              "      <td>5408695.0</td>\n",
              "      <td>39.0</td>\n",
              "      <td>882647.0</td>\n",
              "      <td>4.0</td>\n",
              "      <td>1.0</td>\n",
              "      <td>0.0</td>\n",
              "      <td>1.0</td>\n",
              "      <td>1.0</td>\n",
              "      <td>1174998.0</td>\n",
              "      <td>2.0</td>\n",
              "      <td>0.0</td>\n",
              "      <td>2.0</td>\n",
              "      <td>2.0</td>\n",
              "      <td>2738217.0</td>\n",
              "      <td>38.0</td>\n",
              "      <td>0.0</td>\n",
              "      <td>38.0</td>\n",
              "      <td>39.0</td>\n",
              "      <td>4209963.0</td>\n",
              "      <td>169.0</td>\n",
              "      <td>0.0</td>\n",
              "      <td>169.0</td>\n",
              "      <td>168.0</td>\n",
              "      <td>18351739.0</td>\n",
              "      <td>NaN</td>\n",
              "      <td>NaN</td>\n",
              "      <td>1.0</td>\n",
              "      <td>NaN</td>\n",
              "      <td>NaN</td>\n",
              "      <td>NaN</td>\n",
              "      <td>NaN</td>\n",
              "    </tr>\n",
              "    <tr>\n",
              "      <th>3</th>\n",
              "      <td>4</td>\n",
              "      <td>12237</td>\n",
              "      <td>01JAN2018:00:00:00</td>\n",
              "      <td>0</td>\n",
              "      <td>0</td>\n",
              "      <td>1.937488e+09</td>\n",
              "      <td>122828000.0</td>\n",
              "      <td>6.103280e+08</td>\n",
              "      <td>NaN</td>\n",
              "      <td>809426000.0</td>\n",
              "      <td>356828000.0</td>\n",
              "      <td>38078000.0</td>\n",
              "      <td>5.786965e+09</td>\n",
              "      <td>12001000.0</td>\n",
              "      <td>71000.0</td>\n",
              "      <td>1.232486e+09</td>\n",
              "      <td>78603000.0</td>\n",
              "      <td>4.459193e+09</td>\n",
              "      <td>4611000.0</td>\n",
              "      <td>2.685905e+09</td>\n",
              "      <td>1.516514e+09</td>\n",
              "      <td>NaN</td>\n",
              "      <td>NaN</td>\n",
              "      <td>65834000.0</td>\n",
              "      <td>1.103557e+09</td>\n",
              "      <td>627253000.0</td>\n",
              "      <td>NaN</td>\n",
              "      <td>689000.0</td>\n",
              "      <td>626564000.0</td>\n",
              "      <td>4.411295e+09</td>\n",
              "      <td>3.930000e+05</td>\n",
              "      <td>3.092581e+09</td>\n",
              "      <td>NaN</td>\n",
              "      <td>NaN</td>\n",
              "      <td>7.724453e+09</td>\n",
              "      <td>7.724453e+09</td>\n",
              "      <td>1.694054e+10</td>\n",
              "      <td>4.028466e+10</td>\n",
              "      <td>2.334412e+10</td>\n",
              "      <td>931118000.0</td>\n",
              "      <td>...</td>\n",
              "      <td>1.0</td>\n",
              "      <td>1.0</td>\n",
              "      <td>35.14</td>\n",
              "      <td>NaN</td>\n",
              "      <td>NaN</td>\n",
              "      <td>NaN</td>\n",
              "      <td>NaN</td>\n",
              "      <td>NaN</td>\n",
              "      <td>NaN</td>\n",
              "      <td>NaN</td>\n",
              "      <td>NaN</td>\n",
              "      <td>NaN</td>\n",
              "      <td>NaN</td>\n",
              "      <td>NaN</td>\n",
              "      <td>NaN</td>\n",
              "      <td>NaN</td>\n",
              "      <td>NaN</td>\n",
              "      <td>NaN</td>\n",
              "      <td>NaN</td>\n",
              "      <td>NaN</td>\n",
              "      <td>NaN</td>\n",
              "      <td>NaN</td>\n",
              "      <td>NaN</td>\n",
              "      <td>NaN</td>\n",
              "      <td>NaN</td>\n",
              "      <td>NaN</td>\n",
              "      <td>NaN</td>\n",
              "      <td>NaN</td>\n",
              "      <td>NaN</td>\n",
              "      <td>NaN</td>\n",
              "      <td>NaN</td>\n",
              "      <td>NaN</td>\n",
              "      <td>NaN</td>\n",
              "      <td>NaN</td>\n",
              "      <td>NaN</td>\n",
              "      <td>NaN</td>\n",
              "      <td>NaN</td>\n",
              "      <td>NaN</td>\n",
              "      <td>NaN</td>\n",
              "      <td>NaN</td>\n",
              "    </tr>\n",
              "    <tr>\n",
              "      <th>4</th>\n",
              "      <td>5</td>\n",
              "      <td>9988</td>\n",
              "      <td>01JAN2018:00:00:00</td>\n",
              "      <td>1</td>\n",
              "      <td>0</td>\n",
              "      <td>NaN</td>\n",
              "      <td>NaN</td>\n",
              "      <td>NaN</td>\n",
              "      <td>NaN</td>\n",
              "      <td>NaN</td>\n",
              "      <td>NaN</td>\n",
              "      <td>NaN</td>\n",
              "      <td>NaN</td>\n",
              "      <td>NaN</td>\n",
              "      <td>NaN</td>\n",
              "      <td>NaN</td>\n",
              "      <td>NaN</td>\n",
              "      <td>NaN</td>\n",
              "      <td>NaN</td>\n",
              "      <td>NaN</td>\n",
              "      <td>NaN</td>\n",
              "      <td>NaN</td>\n",
              "      <td>NaN</td>\n",
              "      <td>NaN</td>\n",
              "      <td>NaN</td>\n",
              "      <td>NaN</td>\n",
              "      <td>NaN</td>\n",
              "      <td>NaN</td>\n",
              "      <td>NaN</td>\n",
              "      <td>NaN</td>\n",
              "      <td>NaN</td>\n",
              "      <td>NaN</td>\n",
              "      <td>NaN</td>\n",
              "      <td>NaN</td>\n",
              "      <td>NaN</td>\n",
              "      <td>NaN</td>\n",
              "      <td>NaN</td>\n",
              "      <td>NaN</td>\n",
              "      <td>NaN</td>\n",
              "      <td>NaN</td>\n",
              "      <td>...</td>\n",
              "      <td>NaN</td>\n",
              "      <td>NaN</td>\n",
              "      <td>NaN</td>\n",
              "      <td>NaN</td>\n",
              "      <td>NaN</td>\n",
              "      <td>NaN</td>\n",
              "      <td>NaN</td>\n",
              "      <td>NaN</td>\n",
              "      <td>NaN</td>\n",
              "      <td>NaN</td>\n",
              "      <td>NaN</td>\n",
              "      <td>NaN</td>\n",
              "      <td>NaN</td>\n",
              "      <td>NaN</td>\n",
              "      <td>NaN</td>\n",
              "      <td>NaN</td>\n",
              "      <td>NaN</td>\n",
              "      <td>NaN</td>\n",
              "      <td>NaN</td>\n",
              "      <td>NaN</td>\n",
              "      <td>NaN</td>\n",
              "      <td>NaN</td>\n",
              "      <td>NaN</td>\n",
              "      <td>NaN</td>\n",
              "      <td>NaN</td>\n",
              "      <td>NaN</td>\n",
              "      <td>NaN</td>\n",
              "      <td>NaN</td>\n",
              "      <td>NaN</td>\n",
              "      <td>NaN</td>\n",
              "      <td>NaN</td>\n",
              "      <td>NaN</td>\n",
              "      <td>NaN</td>\n",
              "      <td>NaN</td>\n",
              "      <td>NaN</td>\n",
              "      <td>NaN</td>\n",
              "      <td>NaN</td>\n",
              "      <td>NaN</td>\n",
              "      <td>NaN</td>\n",
              "      <td>NaN</td>\n",
              "    </tr>\n",
              "  </tbody>\n",
              "</table>\n",
              "<p>5 rows × 124 columns</p>\n",
              "</div>\n",
              "      <button class=\"colab-df-convert\" onclick=\"convertToInteractive('df-b4ca12b5-760f-40ee-9c71-d4085f49735e')\"\n",
              "              title=\"Convert this dataframe to an interactive table.\"\n",
              "              style=\"display:none;\">\n",
              "        \n",
              "  <svg xmlns=\"http://www.w3.org/2000/svg\" height=\"24px\"viewBox=\"0 0 24 24\"\n",
              "       width=\"24px\">\n",
              "    <path d=\"M0 0h24v24H0V0z\" fill=\"none\"/>\n",
              "    <path d=\"M18.56 5.44l.94 2.06.94-2.06 2.06-.94-2.06-.94-.94-2.06-.94 2.06-2.06.94zm-11 1L8.5 8.5l.94-2.06 2.06-.94-2.06-.94L8.5 2.5l-.94 2.06-2.06.94zm10 10l.94 2.06.94-2.06 2.06-.94-2.06-.94-.94-2.06-.94 2.06-2.06.94z\"/><path d=\"M17.41 7.96l-1.37-1.37c-.4-.4-.92-.59-1.43-.59-.52 0-1.04.2-1.43.59L10.3 9.45l-7.72 7.72c-.78.78-.78 2.05 0 2.83L4 21.41c.39.39.9.59 1.41.59.51 0 1.02-.2 1.41-.59l7.78-7.78 2.81-2.81c.8-.78.8-2.07 0-2.86zM5.41 20L4 18.59l7.72-7.72 1.47 1.35L5.41 20z\"/>\n",
              "  </svg>\n",
              "      </button>\n",
              "      \n",
              "  <style>\n",
              "    .colab-df-container {\n",
              "      display:flex;\n",
              "      flex-wrap:wrap;\n",
              "      gap: 12px;\n",
              "    }\n",
              "\n",
              "    .colab-df-convert {\n",
              "      background-color: #E8F0FE;\n",
              "      border: none;\n",
              "      border-radius: 50%;\n",
              "      cursor: pointer;\n",
              "      display: none;\n",
              "      fill: #1967D2;\n",
              "      height: 32px;\n",
              "      padding: 0 0 0 0;\n",
              "      width: 32px;\n",
              "    }\n",
              "\n",
              "    .colab-df-convert:hover {\n",
              "      background-color: #E2EBFA;\n",
              "      box-shadow: 0px 1px 2px rgba(60, 64, 67, 0.3), 0px 1px 3px 1px rgba(60, 64, 67, 0.15);\n",
              "      fill: #174EA6;\n",
              "    }\n",
              "\n",
              "    [theme=dark] .colab-df-convert {\n",
              "      background-color: #3B4455;\n",
              "      fill: #D2E3FC;\n",
              "    }\n",
              "\n",
              "    [theme=dark] .colab-df-convert:hover {\n",
              "      background-color: #434B5C;\n",
              "      box-shadow: 0px 1px 3px 1px rgba(0, 0, 0, 0.15);\n",
              "      filter: drop-shadow(0px 1px 2px rgba(0, 0, 0, 0.3));\n",
              "      fill: #FFFFFF;\n",
              "    }\n",
              "  </style>\n",
              "\n",
              "      <script>\n",
              "        const buttonEl =\n",
              "          document.querySelector('#df-b4ca12b5-760f-40ee-9c71-d4085f49735e button.colab-df-convert');\n",
              "        buttonEl.style.display =\n",
              "          google.colab.kernel.accessAllowed ? 'block' : 'none';\n",
              "\n",
              "        async function convertToInteractive(key) {\n",
              "          const element = document.querySelector('#df-b4ca12b5-760f-40ee-9c71-d4085f49735e');\n",
              "          const dataTable =\n",
              "            await google.colab.kernel.invokeFunction('convertToInteractive',\n",
              "                                                     [key], {});\n",
              "          if (!dataTable) return;\n",
              "\n",
              "          const docLinkHtml = 'Like what you see? Visit the ' +\n",
              "            '<a target=\"_blank\" href=https://colab.research.google.com/notebooks/data_table.ipynb>data table notebook</a>'\n",
              "            + ' to learn more about interactive tables.';\n",
              "          element.innerHTML = '';\n",
              "          dataTable['output_type'] = 'display_data';\n",
              "          await google.colab.output.renderOutput(dataTable, element);\n",
              "          const docLink = document.createElement('div');\n",
              "          docLink.innerHTML = docLinkHtml;\n",
              "          element.appendChild(docLink);\n",
              "        }\n",
              "      </script>\n",
              "    </div>\n",
              "  </div>\n",
              "  "
            ],
            "text/plain": [
              "   id_contract  id_client           SIGN_DATE  ...  AGE  SEX_NAME  CITIZENSHIP_NAME\n",
              "0            1       1847  01JAN2018:00:00:00  ...  NaN       NaN               NaN\n",
              "1            2       4650  01JAN2018:00:00:00  ...  NaN       NaN               NaN\n",
              "2            3       4770  01JAN2018:00:00:00  ...  NaN       NaN               NaN\n",
              "3            4      12237  01JAN2018:00:00:00  ...  NaN       NaN               NaN\n",
              "4            5       9988  01JAN2018:00:00:00  ...  NaN       NaN               NaN\n",
              "\n",
              "[5 rows x 124 columns]"
            ]
          },
          "metadata": {},
          "execution_count": 110
        }
      ]
    },
    {
      "cell_type": "code",
      "source": [
        "data.info()"
      ],
      "metadata": {
        "id": "hD4q8KWo7s-m",
        "colab": {
          "base_uri": "https://localhost:8080/"
        },
        "outputId": "84cf7e5d-38c7-478f-de6a-73e493689fd9"
      },
      "execution_count": null,
      "outputs": [
        {
          "output_type": "stream",
          "name": "stdout",
          "text": [
            "<class 'pandas.core.frame.DataFrame'>\n",
            "RangeIndex: 17891 entries, 0 to 17890\n",
            "Columns: 124 entries, id_contract to CITIZENSHIP_NAME\n",
            "dtypes: float64(108), int64(4), object(12)\n",
            "memory usage: 16.9+ MB\n"
          ]
        }
      ]
    },
    {
      "cell_type": "code",
      "source": [
        "# data balance\n",
        "\n",
        "data[\"TARGET\"].value_counts()"
      ],
      "metadata": {
        "id": "Hk9yaFrR7zzO",
        "colab": {
          "base_uri": "https://localhost:8080/"
        },
        "outputId": "943e4823-de00-4874-f634-8125e7fcd084"
      },
      "execution_count": null,
      "outputs": [
        {
          "output_type": "execute_result",
          "data": {
            "text/plain": [
              "0    10502\n",
              "1     7389\n",
              "Name: TARGET, dtype: int64"
            ]
          },
          "metadata": {},
          "execution_count": 112
        }
      ]
    },
    {
      "cell_type": "markdown",
      "source": [
        "Вывод - дисбаланс в классах"
      ],
      "metadata": {
        "id": "txDtXGh5DYpw"
      }
    },
    {
      "cell_type": "markdown",
      "source": [
        "# Split thee data"
      ],
      "metadata": {
        "id": "SaQz-uMbAwrT"
      }
    },
    {
      "cell_type": "code",
      "source": [
        "from sklearn.model_selection import StratifiedShuffleSplit\n",
        "\n",
        "split = StratifiedShuffleSplit(n_splits=1, test_size=0.2, random_state=42)\n",
        "for train_index, test_index in split.split(data, data[\"TARGET\"]):\n",
        "    strat_train_set = data.loc[train_index]\n",
        "    strat_test_set = data.loc[test_index]"
      ],
      "metadata": {
        "id": "nbTkMFeXGbF5"
      },
      "execution_count": null,
      "outputs": []
    },
    {
      "cell_type": "code",
      "source": [
        "data1 = strat_train_set.copy(deep = True).sort_values(by=['SIGN_DATE','id_client'])\n",
        "data_val = strat_test_set.copy(deep = True).sort_values(by=['SIGN_DATE','id_client'])"
      ],
      "metadata": {
        "id": "-MhoK3COdgd9"
      },
      "execution_count": null,
      "outputs": []
    },
    {
      "cell_type": "markdown",
      "source": [
        "# Research on fullness"
      ],
      "metadata": {
        "id": "yhDLYKmjAQ99"
      }
    },
    {
      "cell_type": "code",
      "source": [
        "# how much is null on columns level\n",
        "\n",
        "msno.bar(data1, figsize=(24, 24), fontsize=12, color='steelblue');\n",
        "# save_fig(\"Empty\")"
      ],
      "metadata": {
        "id": "2IP0dhNd8EE1",
        "colab": {
          "base_uri": "https://localhost:8080/"
        },
        "outputId": "27762718-cf81-4c00-d133-a35c8a0eef1a"
      },
      "execution_count": null,
      "outputs": [
        {
          "output_type": "display_data",
          "data": {
            "image/png": "[encoded data removed]",
            "text/plain": [
              "<Figure size 1728x1728 with 3 Axes>"
            ]
          },
          "metadata": {
            "needs_background": "light"
          }
        }
      ]
    },
    {
      "cell_type": "markdown",
      "source": [
        "Вывод - только IP_flag, SIGN_DATA, id_client и id_contract заполнены для всех клиентов."
      ],
      "metadata": {
        "id": "sl_ovLlHCwr-"
      }
    },
    {
      "cell_type": "code",
      "source": [
        "client = (data[\"id_client\"].value_counts() > 1).mean().round(2)*100\n",
        "contract = (data[\"id_contract\"].value_counts() > 1).mean().round(2)*100"
      ],
      "metadata": {
        "id": "rXwelySVEYAd"
      },
      "execution_count": null,
      "outputs": []
    },
    {
      "cell_type": "code",
      "source": [
        "print(\"Percent of same clients %: \",  client)\n",
        "print(\"Percent of same contracts %: \",  contract)"
      ],
      "metadata": {
        "colab": {
          "base_uri": "https://localhost:8080/"
        },
        "id": "UptQql1ZDvAO",
        "outputId": "14d4b89c-c4ea-4048-e263-a6605202afc7"
      },
      "execution_count": null,
      "outputs": [
        {
          "output_type": "stream",
          "name": "stdout",
          "text": [
            "Percent of same clients %:  19.0\n",
            "Percent of same contracts %:  0.0\n"
          ]
        }
      ]
    },
    {
      "cell_type": "markdown",
      "source": [
        "Вывод - повторы наблюдений в таблице могут помочь найти значения пустых ячеек, принадлежащие этим наблюдениям."
      ],
      "metadata": {
        "id": "enFfXzuaFnTQ"
      }
    },
    {
      "cell_type": "code",
      "source": [
        "# how much is null in row level\n",
        "\n",
        "def add_feature_full(data):\n",
        "  for index, row in pd.notna(data).iterrows():\n",
        "    data.loc[index, \"Fullness\"] = row.mean().round(2)"
      ],
      "metadata": {
        "id": "ED5ERWFW6Is8"
      },
      "execution_count": null,
      "outputs": []
    },
    {
      "cell_type": "code",
      "source": [
        "add_feature_full(data1)\n",
        "add_feature_full(data_val)"
      ],
      "metadata": {
        "id": "TvRFyQDJeJTY"
      },
      "execution_count": null,
      "outputs": []
    },
    {
      "cell_type": "code",
      "source": [
        "data1[\"Fullness\"].hist(bins = 100)"
      ],
      "metadata": {
        "colab": {
          "base_uri": "https://localhost:8080/"
        },
        "id": "YrMtsfn866gm",
        "outputId": "05d11774-0a03-437b-8eed-fd8107887684"
      },
      "execution_count": null,
      "outputs": [
        {
          "output_type": "execute_result",
          "data": {
            "text/plain": [
              "<matplotlib.axes._subplots.AxesSubplot at 0x7fbf31292250>"
            ]
          },
          "metadata": {},
          "execution_count": 120
        },
        {
          "output_type": "display_data",
          "data": {
            "image/png": "[encoded data removed]",
            "text/plain": [
              "<Figure size 432x288 with 1 Axes>"
            ]
          },
          "metadata": {
            "needs_background": "light"
          }
        }
      ]
    },
    {
      "cell_type": "markdown",
      "source": [
        "Вывод - есть наблюдения, где отсутсвуют большинство данных.\n"
      ],
      "metadata": {
        "id": "8h7IAXnYAqk8"
      }
    },
    {
      "cell_type": "markdown",
      "source": [
        "# Time sequence research"
      ],
      "metadata": {
        "id": "7IY3IdgozR6V"
      }
    },
    {
      "cell_type": "code",
      "source": [
        "dates = [\"TAXREG_REGDATE\", \"TAXREGPAY_REGDATE\", \"SIGN_DATE\", \"DATEFIRSTREG\"]\n",
        "data_temp_time = data1.copy()\n",
        "data_temp_time[dates].info()"
      ],
      "metadata": {
        "colab": {
          "base_uri": "https://localhost:8080/"
        },
        "id": "NXtYBLZVbduC",
        "outputId": "03c4ddcf-cbe9-4263-d676-5e7ae3f1a5b5"
      },
      "execution_count": null,
      "outputs": [
        {
          "output_type": "stream",
          "name": "stdout",
          "text": [
            "<class 'pandas.core.frame.DataFrame'>\n",
            "Int64Index: 14312 entries, 3391 to 11481\n",
            "Data columns (total 4 columns):\n",
            " #   Column             Non-Null Count  Dtype \n",
            "---  ------             --------------  ----- \n",
            " 0   TAXREG_REGDATE     13256 non-null  object\n",
            " 1   TAXREGPAY_REGDATE  13179 non-null  object\n",
            " 2   SIGN_DATE          14312 non-null  object\n",
            " 3   DATEFIRSTREG       13258 non-null  object\n",
            "dtypes: object(4)\n",
            "memory usage: 1.2+ MB\n"
          ]
        }
      ]
    },
    {
      "cell_type": "code",
      "source": [
        "# change the type\n",
        "for d in dates:\n",
        "  data_temp_time[d] = pd.to_datetime(data[d], format='%d%b%Y:%H:%M:%S')"
      ],
      "metadata": {
        "id": "8kLCUo6RcFGr"
      },
      "execution_count": null,
      "outputs": []
    },
    {
      "cell_type": "code",
      "source": [
        "data_temp_time[dates].info()"
      ],
      "metadata": {
        "colab": {
          "base_uri": "https://localhost:8080/"
        },
        "id": "jUYreMiVdzz3",
        "outputId": "9bed4e5e-67f7-4cd4-86f4-abc542d03511"
      },
      "execution_count": null,
      "outputs": [
        {
          "output_type": "stream",
          "name": "stdout",
          "text": [
            "<class 'pandas.core.frame.DataFrame'>\n",
            "Int64Index: 14312 entries, 3391 to 11481\n",
            "Data columns (total 4 columns):\n",
            " #   Column             Non-Null Count  Dtype         \n",
            "---  ------             --------------  -----         \n",
            " 0   TAXREG_REGDATE     13256 non-null  datetime64[ns]\n",
            " 1   TAXREGPAY_REGDATE  13179 non-null  datetime64[ns]\n",
            " 2   SIGN_DATE          14312 non-null  datetime64[ns]\n",
            " 3   DATEFIRSTREG       13258 non-null  datetime64[ns]\n",
            "dtypes: datetime64[ns](4)\n",
            "memory usage: 1.2 MB\n"
          ]
        }
      ]
    },
    {
      "cell_type": "code",
      "source": [
        "from matplotlib import pyplot\n",
        "\n",
        "fig, ax = pyplot.subplots(figsize=(10, 5))\n",
        "sns.scatterplot(data=data_temp_time, x=\"SIGN_DATE\", y=\"id_contract\", alpha=0.01)"
      ],
      "metadata": {
        "colab": {
          "base_uri": "https://localhost:8080/"
        },
        "id": "G0MU9kNppoRL",
        "outputId": "ef34d996-7672-43ec-b3b7-41f3ef90eb1f"
      },
      "execution_count": null,
      "outputs": [
        {
          "output_type": "execute_result",
          "data": {
            "text/plain": [
              "<matplotlib.axes._subplots.AxesSubplot at 0x7fbf30bad950>"
            ]
          },
          "metadata": {},
          "execution_count": 124
        },
        {
          "output_type": "display_data",
          "data": {
            "image/png": "[encoded data removed]",
            "text/plain": [
              "<Figure size 720x360 with 1 Axes>"
            ]
          },
          "metadata": {
            "needs_background": "light"
          }
        }
      ]
    },
    {
      "cell_type": "markdown",
      "source": [
        "Вывод \"SIGN_DATE\" можно заменить датой слева и справа"
      ],
      "metadata": {
        "id": "HkTxOm0He0w5"
      }
    },
    {
      "cell_type": "markdown",
      "source": [
        "# Data Imputation"
      ],
      "metadata": {
        "id": "pcrkFpkDQUU_"
      }
    },
    {
      "cell_type": "markdown",
      "source": [
        "Imputation technic №1\n",
        "\n",
        "---\n",
        "\n"
      ],
      "metadata": {
        "id": "pslxWoq4HGN-"
      }
    },
    {
      "cell_type": "markdown",
      "source": [
        "We impute missing categorical features for clients who attend bank more than 1 time"
      ],
      "metadata": {
        "id": "jl_GolSIgH3E"
      }
    },
    {
      "cell_type": "markdown",
      "source": [
        "Impute date "
      ],
      "metadata": {
        "id": "h03ure5dXaDj"
      }
    },
    {
      "cell_type": "markdown",
      "source": [
        "Imputation technic №2\n",
        "\n",
        "---\n",
        "\n"
      ],
      "metadata": {
        "id": "HbkKGRZbGqHa"
      }
    },
    {
      "cell_type": "markdown",
      "source": [
        "Random sampling imputation is in principle similar to mean / median / mode imputation, in the sense that it aims to preserve the statistical parameters of the original variable, for which data is missing.\n",
        "\n",
        "Random sampling consist of taking a random observation from the pool of available observations of the variable, and using that randomly extracted value to fill the NA. In random sample imputation one takes as many random observations as missing values are present in the variable."
      ],
      "metadata": {
        "id": "-jBbFEaOb300"
      }
    },
    {
      "cell_type": "markdown",
      "source": [
        "We do not know whether data are missing at random or not. It is a good idea to replace missing observations by random value AND flag those missing observations as well with a Missing Indicator. A Missing Indicator is an additional binary variable, which indicates whether the data was missing for an observation (1) or not (0).\n",
        "\n"
      ],
      "metadata": {
        "id": "_8EZDKBtdDkL"
      }
    },
    {
      "cell_type": "code",
      "source": [
        "pipe = Pipeline([\n",
        "    ('missing_ind', AddMissingIndicator()),\n",
        "\n",
        "    ('imputer_random', RandomSampleImputer(random_state = 42))\n",
        "])"
      ],
      "metadata": {
        "id": "vJlkzr7cgxaS"
      },
      "execution_count": null,
      "outputs": []
    },
    {
      "cell_type": "code",
      "source": [
        "pipe.fit(data1)\n",
        "imputed_train_v2 = pipe.transform(data1)\n",
        "imputed_test_v2 = pipe.transform(data_val)"
      ],
      "metadata": {
        "id": "bJaD4UTDhJRt"
      },
      "execution_count": null,
      "outputs": []
    },
    {
      "cell_type": "code",
      "source": [
        "# checking\n",
        "\n",
        "print(\"Columns with missing values in train:\")\n",
        "[feature for feature in imputed_train_v2.columns if imputed_train_v2.isnull().any()[feature] == True]"
      ],
      "metadata": {
        "id": "2oiIDgjUbpip",
        "colab": {
          "base_uri": "https://localhost:8080/"
        },
        "outputId": "4352cc50-4ad6-41b4-e1ea-4bdcfaf12f2f"
      },
      "execution_count": null,
      "outputs": [
        {
          "output_type": "stream",
          "name": "stdout",
          "text": [
            "Columns with missing values in train:\n"
          ]
        },
        {
          "output_type": "execute_result",
          "data": {
            "text/plain": [
              "[]"
            ]
          },
          "metadata": {},
          "execution_count": 59
        }
      ]
    },
    {
      "cell_type": "code",
      "source": [
        "imputed_train_v2.name = 'imputed_train_v2'\n",
        "imputed_test_v2.name = 'imputed_test_v2'"
      ],
      "metadata": {
        "id": "RxZOKwy5D7kd"
      },
      "execution_count": null,
      "outputs": []
    },
    {
      "cell_type": "code",
      "source": [
        "imputed_list = [imputed_train_v2, imputed_test_v2]"
      ],
      "metadata": {
        "id": "rkOv6Jpl98cR"
      },
      "execution_count": null,
      "outputs": []
    },
    {
      "cell_type": "markdown",
      "source": [
        "# Feature construction"
      ],
      "metadata": {
        "id": "C6i_drKEQCUk"
      }
    },
    {
      "cell_type": "markdown",
      "source": [
        "Debt features\n"
      ],
      "metadata": {
        "id": "UAsC0VNvmnzw"
      }
    },
    {
      "cell_type": "code",
      "source": [
        "def construct_debt_features(data):\n",
        "\n",
        "  # all debt\n",
        "  data['debt'] = (data['F1410']+data['F1510'])\n",
        "  # ratio\n",
        "  data['debt_on_profit'] = (data['F1410']+data['F1510'])/data['F2110']\n",
        "  # ratio from past\n",
        "  data['debt_on_profit_LAG1'] = (data['F1410_LAG1']+data['F1510_LAG1'])/data['F2110_LAG1']\n",
        "  # change absolut\n",
        "  data['debt_on_profit_diff']  = data['debt_on_profit'] - data['debt_on_profit_LAG1']\n",
        "  # change relative\n",
        "  data['debt_on_profit_diff_ratio']  = (data['debt_on_profit'] - data['debt_on_profit_LAG1'])/data['debt_on_profit']\n",
        "\n",
        "  print(\"Debt feature construction is completed\")"
      ],
      "metadata": {
        "id": "d_rXipr8ljZ8"
      },
      "execution_count": null,
      "outputs": []
    },
    {
      "cell_type": "markdown",
      "source": [
        "Arbitrage and bid features. "
      ],
      "metadata": {
        "id": "lr-GEJSumve_"
      }
    },
    {
      "cell_type": "code",
      "source": [
        "def construct_ratio_features(data):\n",
        "  # for convinience\n",
        "  data.rename(columns={'NOTADMITTEDNUMBER_EVER': 'NOTADMITTEDNUMBER_95_EVER','THIRDOROTHERPERSON_YEAR':'THIRDOROTHERPERSON_CASESNUMBER_YEAR',\n",
        "                        'THIRDOROTHERPERSON_EVER':'THIRDOROTHERPERSON_CASESNUMBER_EVER'}, inplace=False)    \n",
        "  # for iteration\n",
        "  ever_year_info = ['PLAINTIFF_SUM','PLAINTIFF_CASESNUMBER','DEFENDANT_CASESNUMBER','DEFENDANT_SUM', 'THIRDOROTHERPERSON_CASESNUMBER',\n",
        "                    'ADMITTEDNUMBER_233','NOTADMITTEDNUMBER_233','WINNERNUMBER_233', 'SIGNEDNUMBER_233','SUM_233','ADMITTEDNUMBER_95',\n",
        "                    'NOTADMITTEDNUMBER_95','SIGNEDNUMBER_95', 'WINNERNUMBER_95','SUM_95','COUNT_CHANGE']\n",
        "\n",
        "  for col in ever_year_info:\n",
        "      # compare bit and arbitrage of this year with history \n",
        "      # -1 if there is no value in the history\n",
        "      func_ration = lambda x: -1 if x['{}_EVER'.format(col)] == 0 else x['{}_YEAR'.format(col)]/x['{}_EVER'.format(col)]\n",
        "      data['RATIO_YEAR_EVER_{}'.format(col)] = data[['{}_YEAR'.format(col), '{}_EVER'.format(col)]].apply(func_ration, axis=1)\n",
        "\n",
        "  print(\"Ratio feature construction is completed\")"
      ],
      "metadata": {
        "id": "GHCFj9LprV4x"
      },
      "execution_count": null,
      "outputs": []
    },
    {
      "cell_type": "markdown",
      "source": [
        "Arbitrage only features"
      ],
      "metadata": {
        "id": "FnZPZsuu-4YL"
      }
    },
    {
      "cell_type": "code",
      "source": [
        "def construct_arbitrage_features(data):\n",
        "  tender_info = ['NUMBER_233_YEAR','NUMBER_233_EVER', 'NUMBER_95_YEAR','NUMBER_95_EVER']\n",
        "\n",
        "  data.rename(columns={'NOTADMITTEDNUMBER_EVER': 'NOTADMITTEDNUMBER_95_EVER','THIRDOROTHERPERSON_YEAR':'THIRDOROTHERPERSON_CASESNUMBER_YEAR',\n",
        "                        'THIRDOROTHERPERSON_EVER':'THIRDOROTHERPERSON_CASESNUMBER_EVER'}, inplace=True)  \n",
        "    \n",
        "  for col in tender_info:\n",
        "      # total \n",
        "      data['SUM_ADM_NOTADM_{}'.format(col)] = (data['ADMITTED{}'.format(col)] + data['NOTADMITTED{}'.format(col)] )\n",
        "      \n",
        "      # Percent of admitted cases\n",
        "      func_ratio = lambda x: -1 if x['NOTADMITTED{}'.format(col)] + x['ADMITTED{}'.format(col)] == 0 else x['ADMITTED{}'.format(col)] / (x['NOTADMITTED{}'.format(col)]+x['ADMITTED{}'.format(col)])\n",
        "      data['RATIO_ADMIT_{}'.format(col)] = data[['ADMITTED{}'.format(col), 'NOTADMITTED{}'.format(col)]].apply(func_ratio, axis=1)\n",
        "\n",
        "      # Percent of winned cases\n",
        "      func_ratio = lambda x: -1 if x['ADMITTED{}'.format(col)] == 0 else x['WINNER{}'.format(col)] / x['ADMITTED{}'.format(col)]\n",
        "      data['RATIO_WIN_{}'.format(col)] = data[['WINNER{}'.format(col), 'ADMITTED{}'.format(col)]].apply(func_ratio, axis=1)\n",
        "      \n",
        "      # Percent of signed cases after winning\n",
        "      func_ratio = lambda x: -1 if x['WINNER{}'.format(col)] == 0 else x['SIGNED{}'.format(col)] / x['WINNER{}'.format(col)]\n",
        "      data['RATIO_WIN_SIG_{}'.format(col)] = data[['WINNER{}'.format(col), 'SIGNED{}'.format(col)]].apply(func_ratio, axis=1)\n",
        "\n",
        "\n",
        "  judge_info = ['CASESNUMBER_YEAR', 'CASESNUMBER_EVER']\n",
        "  judge_info_2 = ['SUM_EVER', 'SUM_YEAR']\n",
        "\n",
        "  for col in judge_info:\n",
        "\n",
        "      # total cases in arbitrage\n",
        "      data['SUM_PLA_DEF_THI_{}'.format(col)] = data['PLAINTIFF_{}'.format(col)] + data['DEFENDANT_{}'.format(col)] + data['THIRDOROTHERPERSON_{}'.format(col)]\n",
        "\n",
        "      # case ratio\n",
        "      func_ration = lambda x: -1 if x['THIRDOROTHERPERSON_{}'.format(col)] == 0 else x['DEFENDANT_{}'.format(col)] /x['THIRDOROTHERPERSON_{}'.format(col)]\n",
        "      data['RATIO_DEF_THI_{}'.format(col)] = data[['DEFENDANT_{}'.format(col), 'THIRDOROTHERPERSON_{}'.format(col)]].apply(func_ration, axis=1)\n",
        "\n",
        "      # case ratio\n",
        "      func_ration = lambda x: -1 if x['PLAINTIFF_{}'.format(col)] + x['DEFENDANT_{}'.format(col)] == 0 else x['DEFENDANT_{}'.format(col)] /(x['PLAINTIFF_{}'.format(col)] + x['DEFENDANT_{}'.format(col)])\n",
        "      data['RATIO_DEF_THI_DEF_{}'.format(col)] = data[['DEFENDANT_{}'.format(col), 'PLAINTIFF_{}'.format(col)]].apply(func_ration, axis=1)\n",
        "\n",
        "  for col in judge_info_2:\n",
        "\n",
        "      # total cases in arbitrage without THIRDOROTHERPERSON\n",
        "      data['SUM_PLA_DEF_{}'.format(col)] = data['PLAINTIFF_{}'.format(col)] + data['DEFENDANT_{}'.format(col)]\n",
        "\n",
        "      # case ratio\n",
        "      func_ration = lambda x: -1 if x['PLAINTIFF_{}'.format(col)] == 0 else x['DEFENDANT_{}'.format(col)]/x['PLAINTIFF_{}'.format(col)]\n",
        "      data['RATIO_DEF_THI_{}'.format(col)] = data[['DEFENDANT_{}'.format(col), 'PLAINTIFF_{}'.format(col)]].apply(func_ration, axis=1)\n",
        "\n",
        "      # DEFENDANT percent out of total\n",
        "      func_ratio = lambda x: -1 if x['PLAINTIFF_{}'.format(col)] + x['DEFENDANT_{}'.format(col)] == 0 else x['DEFENDANT_{}'.format(col)]/(x['PLAINTIFF_{}'.format(col)] + x['DEFENDANT_{}'.format(col)])\n",
        "      data['RATIO_DEF_THI_DEF_{}'.format(col)] = data[['DEFENDANT_{}'.format(col),'PLAINTIFF_{}'.format(col)]].apply(func_ratio, axis=1)\n",
        "\n",
        "\n",
        "  arb_info = ['PLAINTIFF', 'DEFENDANT']\n",
        "  num2sum = {'CASESNUMBER_YEAR' : 'SUM_YEAR', 'CASESNUMBER_EVER' : 'SUM_EVER'}\n",
        "  \n",
        "  for number, summa in num2sum.items():\n",
        "      for col in arb_info:\n",
        "          # avarage amount of money per arbitrage case in 1 observation\n",
        "          func_ration = lambda x: -1 if x['{}_{}'.format(col, number)] == 0 else x['{}_{}'.format(col, summa)]/x['{}_{}'.format(col, number)]\n",
        "          data['RATIO_SUM_NUMBER_{}_{}'.format(col, number.split('_')[-1])] = data[['{}_{}'.format(col, summa), '{}_{}'.format(col, number)]].apply(func_ration, axis=1)\n",
        "  \n",
        "  print(\"Arbitrage feature construction is completed\")  "
      ],
      "metadata": {
        "id": "cSYg8C6r-4Cd"
      },
      "execution_count": null,
      "outputs": []
    },
    {
      "cell_type": "markdown",
      "source": [
        "Time, code and quantity features"
      ],
      "metadata": {
        "id": "bB3NS27b91n1"
      }
    },
    {
      "cell_type": "code",
      "source": [
        "def construct_time_code_features(data):\n",
        "\n",
        "  # add labels for quantity of people in firm\n",
        "  str2num = { '5000 и более': 12, '1001 .. 5000': 11, '501 .. 1000': 10, '251 .. 500': 9, '201 .. 250': 8, '151 .. 200': 7,\n",
        "            '101 .. 150': 6, '51 .. 100': 5, '16 .. 50': 4, '11 .. 15': 3, '6 .. 10': 2, '0 .. 5': 1}\n",
        "  data['WORKERSRANGE'] = data['WORKERSRANGE'].map(str2num).astype(float)\n",
        "\n",
        "\n",
        "  dates = [\"TAXREG_REGDATE\", \"TAXREGPAY_REGDATE\", \"SIGN_DATE\", \"DATEFIRSTREG\"]\n",
        "  \n",
        "  # change the type\n",
        "  for d in dates:\n",
        "      data[d] = pd.to_datetime(data[d], format='%d%b%Y:%H:%M:%S')\n",
        "\n",
        "  # time difference between all events\n",
        "  for i in dates:\n",
        "      for j in dates:\n",
        "          if i != j:\n",
        "              data[\"{}_{}_year_delta\".format(i, j)] = data[i].dt.year - data[j].dt.year \n",
        "              data[\"{}_{}_month_delta\".format(i, j)] = ((data[i] - data[j]).astype('timedelta64[D]')/ 28).round()\n",
        "              data[\"{}_{}_day_delta\".format(i, j)] = (data[i] - data[j]).astype('timedelta64[D]')\n",
        "  \n",
        "  data[\"F_sing_date_year\"] = data['SIGN_DATE'].dt.year\n",
        "\n",
        "\n",
        "  # derive specialization and company locations from codes\n",
        "  for step in [2, 4, 5, 7, 8]:\n",
        "      data['OKVED_CODE_{}'.format(step)] = data['OKVED_CODE'].str[:step]\n",
        "\n",
        "  data['OKTMO_CODE'] = data['OKTMO_CODE'].astype(str)\n",
        "  for step in [2, 5, 8]:\n",
        "      data['OKTMO_CODE_{}'.format(step)] = data['OKTMO_CODE'].str[:step]\n",
        "\n",
        "  print(\"Time, code and people feature construction is completed\")  "
      ],
      "metadata": {
        "id": "qIscGeQXiFPQ"
      },
      "execution_count": null,
      "outputs": []
    },
    {
      "cell_type": "markdown",
      "source": [
        "Financial features"
      ],
      "metadata": {
        "id": "6ztFUHQ0EZ8-"
      }
    },
    {
      "cell_type": "code",
      "source": [
        "    def construct_fin_features(data):\n",
        "      \n",
        "      # profitability metrices\n",
        "      data['F_fin_2200_2'] = data['F2200']/(data['F2120'] + data['F2210'] + data['F2220'])\n",
        "      data['F_fin_2400_2110'] = data['F2400']/data['F2110']    \n",
        "      data['F_fin_2300_1300'] = data['F2300']/(data['F1300'] + data['F1530'] + data['F1400'])\n",
        "      data['F_fin_2300_2110'] = data['F2300']/data['F2110']\n",
        "      data['F_fin_2400_1300_1500'] = data['F2400']/(data['F1300'] + data['F1530'])\n",
        "      data['F_fin_2400_1600'] = data['F2400']/data['F1600']\n",
        "      data['F_fin_2400_2110_LAG1'] = data['F2400_LAG1']/data['F2110_LAG1']\n",
        "      data['F_fin_2400_2110_diff_ratio'] = (data['F_fin_2400_2110'] - data['F_fin_2400_2110_LAG1'])/data['F_fin_2400_2110']\n",
        "      data['F_fin_2300_2110_LAG1'] = data['F2300_LAG1']/data['F2110_LAG1']\n",
        "      data['F_fin_2300_2110_LAG1_diff_ratio'] = (data['F_fin_2300_2110'] - data['F_fin_2300_2110_LAG1'])/data['F_fin_2300_2110']\n",
        "\n",
        "      # lequidity and turnover\n",
        "      data['F_fin_1200_2'] = data['F1200'] - data['F1500'] - data['F1530'] \n",
        "      data['F_fin_1240_1'] = (data['F1240'] + data['F1250'])/( data['F1500'] + data['F1530'])\n",
        "      data['F_fin_1240_2'] = (data['F1240'] + data['F1250'] + data['F1230'])/( data['F1500'] + data['F1530'])\n",
        "      data['F_fin_1200_1'] = data['F1200']/( data['F1500'] + data['F1530'] )\n",
        "      data['F_fin_2110_1230'] = data['F2110']/data['F1230'] \n",
        "      data['F_fin_2120_1210'] = data['F2120']/data['F1210']\n",
        "      data['F_fin_2110_1230_LAG1'] = data['F2110_LAG1']/data['F1230_LAG1']\n",
        "      data['F_fin_2110_1230_diff_ratio'] = (data['F_fin_2110_1230'] - data['F_fin_2110_1230_LAG1'])/data['F_fin_2110_1230']\n",
        "\n",
        "      # debt lequidity\n",
        "      data['F_21'] = data['F2110'] / ((data['F1230'] + data['F1230_LAG1'])/2)\n",
        "      data['F_22'] = data['F2120'] / ((data['F1520'] + data['F1520_LAG1'])/2)\n",
        "\n",
        "      # stability\n",
        "      data['F_fin_1_1700'] = (data['F1300'] + data['F1530'] )/data['F1700']\n",
        "      data['F_fin_2_1700'] = (data['F1400'] + data['F1500']  - data['F1530'] )/data['F1700']\n",
        "      data['F_fin_1400'] = (data['F1400'] + data['F1500']  - data['F1530'] )/(data['F1300'] + data['F1530'])\n",
        "      data['F_fin_1300'] = (data['F1300'] + data['F1530']  - data['F1100'])/(data['F1300'] + data['F1530'])\n",
        "      data['F_fin_1300_1'] = (data['F1300'] + data['F1530'] - data['F1100'])/data['F1200']\n",
        "\n",
        "      # others\n",
        "      data['FE1700'] = data['F2110'] + data['F2120'] + data['F2100'] + data['F2210']+ data['F2220'] + data['F2200'] + data['F2350'] + data['F2300'] + data['F2410'] + data['F2400']\n",
        "      data['F_sum_active_pass'] = data['F1700'] + data['F1600']\n",
        "      data['F_active_on_pass'] = data['F1600']/(data['F1600']+data['F1700'])\n",
        "      data['F_active_on_pass_ration'] = data['F1600']/(data['F1700'])\n",
        "      func_ratio = lambda x: -1 if x['F1410'] + x['F1510'] == 0 else (x['F1600'] + x['F1700'])/(x['F1410'] + x['F1510'])\n",
        "      data['debt_on_sum_act_pas'] = data[['F1700','F1600','F1410','F1510']].apply(func_ratio, axis=1)\n",
        "\n",
        "      print(\"Financial features construction is completed\")  "
      ],
      "metadata": {
        "id": "4yp21jU0Enn_"
      },
      "execution_count": null,
      "outputs": []
    },
    {
      "cell_type": "code",
      "source": [
        "def construct_grouped_features(tr_data, te_data=None, test_flag=False):\n",
        "\n",
        "    # we need to construct descriptive statistic features for test set by taking into account train set data\n",
        "    if test_flag:\n",
        "        data = pd.concat([tr_data, te_data], ignore_index = True)\n",
        "    else:\n",
        "        data = tr_data.copy()\n",
        "         \n",
        "    # years passed from different events\n",
        "    data['year_from_DATEFIRSTREG'] = ((data['SIGN_DATE'] - data['DATEFIRSTREG']).astype('timedelta64[D]') / 365).round()\n",
        "    data['year_from_TAXREG_REGDATE'] = ((data['SIGN_DATE'] - data['TAXREG_REGDATE']).astype('timedelta64[D]') / 365).round()\n",
        "    data['year_from_TAXREGPAY_REGDATE'] = ((data['SIGN_DATE'] - data['TAXREGPAY_REGDATE']).astype('timedelta64[D]') / 365).round()\n",
        "\n",
        "    # how much days passed after first deal with the bank\n",
        "    data['day_from_first_SIGN_DATE'] = (data.groupby('id_client')['SIGN_DATE'].transform('min') - data['SIGN_DATE']).astype('timedelta64[D]')  \n",
        "\n",
        "    # how many flags per client\n",
        "    data['F_IP_flag_sum'] = data.groupby(\"id_client\", as_index=False)[\"IP_flag\"].transform('sum')\n",
        "\n",
        "    # how many times client returned to to the bank\n",
        "    data['F_contract_count'] = data.groupby(\"id_client\", as_index=False)[\"id_contract\"].transform(\"count\")\n",
        "\n",
        "    # \n",
        "    data['F_contract_count_in_day'] = data.groupby(['id_client','SIGN_DATE'])['SIGN_DATE'].transform('count')    \n",
        "\n",
        "    #\n",
        "    trend = lambda x : x.iloc[-1] - x.iloc[0]\n",
        "    data['F_contract_count_in_day_trend'] = data[['id_client','F_contract_count_in_day']].groupby('id_client', as_index=False)['F_contract_count_in_day'].transform(trend)\n",
        "\n",
        "\n",
        "    # standart deviation and mean for each case\n",
        "    data['F_contract_count_in_day_std'] = data[['id_client','F_contract_count_in_day']].groupby('id_client', as_index=False).transform('std').fillna(0)\n",
        "    data['F_contract_count_mean'] = data[['id_client','F_contract_count']].groupby('id_client', as_index=False).transform('mean')\n",
        "    data['F_WORKERSRANGE_change_mean'] = data[['id_client','WORKERSRANGE']].groupby('id_client', as_index=False).transform('mean')\n",
        "    data['F_WORKERSRANGE_change_std'] = data[['id_client','WORKERSRANGE']].groupby('id_client', as_index=False).transform('std').fillna(0)\n",
        "    data['TELEPHONECOUNT_std'] = data[['id_client','TELEPHONECOUNT']].groupby('id_client', as_index=False).transform('std').fillna(0)\n",
        "    data['RATIO_WIN_NUMBER_95_YEAR_std'] = data[['id_client','RATIO_WIN_NUMBER_95_YEAR']].groupby('id_client', as_index=False).transform('std').fillna(0)\n",
        "    data['RATIO_WIN_NUMBER_95_EVER_std'] = data[['id_client','RATIO_WIN_NUMBER_95_EVER']].groupby('id_client', as_index=False).transform('std').fillna(0)\n",
        "    data['RATIO_ADMIT_NUMBER_95_EVER_std'] = data[['id_client','RATIO_ADMIT_NUMBER_95_EVER']].groupby('id_client', as_index=False).transform('std').fillna(0)\n",
        "    data['MANAGERINNCOUNT_std'] = data[['id_client','MANAGERINNCOUNT']].groupby('id_client', as_index=False).transform('std').fillna(0)\n",
        "        \n",
        "    if test_flag:\n",
        "        data = data.iloc[len(tr_data):]\n",
        "        assert len(data)==len(te_data)\n",
        "    return data\n",
        "    print(\"Grouped features construction is completed\")  \n"
      ],
      "metadata": {
        "id": "7N6xkTdLzIQ2"
      },
      "execution_count": null,
      "outputs": []
    },
    {
      "cell_type": "markdown",
      "source": [
        "Implement feature construction"
      ],
      "metadata": {
        "id": "FYFdk6nmd9IC"
      }
    },
    {
      "cell_type": "code",
      "source": [
        "for imputed_data in imputed_list:\n",
        "  construct_fin_features(imputed_data)\n",
        "  construct_time_code_features(imputed_data)\n",
        "  construct_arbitrage_features(imputed_data)\n",
        "  construct_ratio_features(imputed_data)\n",
        "  construct_debt_features(imputed_data)\n",
        "  print(\"===========================================\")\n",
        "  print(f\"For {imputed_data.name} ALL features are created\")\n",
        "  print(\"===========================================\")"
      ],
      "metadata": {
        "colab": {
          "base_uri": "https://localhost:8080/"
        },
        "id": "whMnrh7Q8TJZ",
        "outputId": "e26f3533-760a-4dae-8703-e2840c61db1f"
      },
      "execution_count": null,
      "outputs": [
        {
          "output_type": "error",
          "ename": "NameError",
          "evalue": "ignored",
          "traceback": [
            "\u001b[0;31m---------------------------------------------------------------------------\u001b[0m",
            "\u001b[0;31mNameError\u001b[0m                                 Traceback (most recent call last)",
            "\u001b[0;32m<ipython-input-75-432cede0048b>\u001b[0m in \u001b[0;36m<module>\u001b[0;34m()\u001b[0m\n\u001b[0;32m----> 1\u001b[0;31m \u001b[0;32mfor\u001b[0m \u001b[0mimputed_data\u001b[0m \u001b[0;32min\u001b[0m \u001b[0mimputed_list\u001b[0m\u001b[0;34m:\u001b[0m\u001b[0;34m\u001b[0m\u001b[0;34m\u001b[0m\u001b[0m\n\u001b[0m\u001b[1;32m      2\u001b[0m   \u001b[0mconstruct_fin_features\u001b[0m\u001b[0;34m(\u001b[0m\u001b[0mimputed_data\u001b[0m\u001b[0;34m)\u001b[0m\u001b[0;34m\u001b[0m\u001b[0;34m\u001b[0m\u001b[0m\n\u001b[1;32m      3\u001b[0m   \u001b[0mconstruct_time_code_features\u001b[0m\u001b[0;34m(\u001b[0m\u001b[0mimputed_data\u001b[0m\u001b[0;34m)\u001b[0m\u001b[0;34m\u001b[0m\u001b[0;34m\u001b[0m\u001b[0m\n\u001b[1;32m      4\u001b[0m   \u001b[0mconstruct_arbitrage_features\u001b[0m\u001b[0;34m(\u001b[0m\u001b[0mimputed_data\u001b[0m\u001b[0;34m)\u001b[0m\u001b[0;34m\u001b[0m\u001b[0;34m\u001b[0m\u001b[0m\n\u001b[1;32m      5\u001b[0m   \u001b[0mconstruct_ratio_features\u001b[0m\u001b[0;34m(\u001b[0m\u001b[0mimputed_data\u001b[0m\u001b[0;34m)\u001b[0m\u001b[0;34m\u001b[0m\u001b[0;34m\u001b[0m\u001b[0m\n",
            "\u001b[0;31mNameError\u001b[0m: name 'imputed_list' is not defined"
          ]
        }
      ]
    },
    {
      "cell_type": "code",
      "source": [
        "train_data = construct_grouped_features(imputed_train_v2, None, test_flag=False)\n",
        "test_data = construct_grouped_features(imputed_train_v2, imputed_test_v2 , test_flag = True)"
      ],
      "metadata": {
        "id": "LrOHeA2zdfll"
      },
      "execution_count": null,
      "outputs": []
    },
    {
      "cell_type": "code",
      "source": [
        "list_data = [train_data, test_data]"
      ],
      "metadata": {
        "id": "Sbq1E9bqxcxI"
      },
      "execution_count": null,
      "outputs": []
    },
    {
      "cell_type": "code",
      "source": [
        "# check for column dublicates\n",
        "for d in list_data:\n",
        "  a = d.columns.to_list()\n",
        "  print(\"Number of dublicates\",[item for item, count in collections.Counter(a).items() if count > 1])"
      ],
      "metadata": {
        "id": "SqPfCpUIgx64"
      },
      "execution_count": null,
      "outputs": []
    },
    {
      "cell_type": "code",
      "source": [
        "print(\"Train shape \",train_data.shape)\n",
        "print(\"Test shape \",test_data.shape)"
      ],
      "metadata": {
        "id": "TU_xj5Y5gvpY"
      },
      "execution_count": null,
      "outputs": []
    },
    {
      "cell_type": "code",
      "source": [
        "pickle_out = open(path_pikcle + \"list_data.pickle\", \"wb\")\n",
        "pickle.dump(list_data, pickle_out)\n",
        "pickle_out.close()"
      ],
      "metadata": {
        "id": "BWDRiRUmtkGQ"
      },
      "execution_count": null,
      "outputs": []
    },
    {
      "cell_type": "markdown",
      "source": [
        "# Separate numerical and catogorical features"
      ],
      "metadata": {
        "id": "F62JlPXbeFig"
      }
    },
    {
      "cell_type": "code",
      "source": [
        "pickle_in = open(path_pikcle + \"list_data.pickle\", \"rb\")\n",
        "list_data = pickle.load(pickle_in)\n",
        "\n",
        "train_data = list_data[0].copy()\n",
        "test_data = list_data[1].copy()"
      ],
      "metadata": {
        "id": "Is7xhZkfIyPq"
      },
      "execution_count": 14,
      "outputs": []
    },
    {
      "cell_type": "code",
      "source": [
        "# checking\n",
        "\n",
        "print(\"Columns with missing values in train:\")\n",
        "[feature for feature in train_data.columns if train_data.isnull().any()[feature] == True]\n"
      ],
      "metadata": {
        "colab": {
          "base_uri": "https://localhost:8080/"
        },
        "id": "jjFJOaNicHjV",
        "outputId": "943c11d4-96b0-4b30-c03b-031f41f99bb1"
      },
      "execution_count": 15,
      "outputs": [
        {
          "output_type": "stream",
          "name": "stdout",
          "text": [
            "Columns with missing values in train:\n"
          ]
        },
        {
          "output_type": "execute_result",
          "data": {
            "text/plain": [
              "[]"
            ]
          },
          "metadata": {},
          "execution_count": 15
        }
      ]
    },
    {
      "cell_type": "code",
      "source": [
        "from tqdm import tqdm"
      ],
      "metadata": {
        "id": "j6XE_UXDjnOP"
      },
      "execution_count": 16,
      "outputs": []
    },
    {
      "cell_type": "code",
      "source": [
        "cat_features = ['OKTMO_CODE', 'OKVED_CODE', 'CITIZENSHIP_NAME']\n",
        "num_features = [] \n",
        "\n",
        "col2ignor =  ['SUM_ADM_NOTADM_NUMBER_233_EVER', 'TAXREG_REGDATE_DATEFIRSTREG_month_delta',\n",
        "              'ADMITTEDNUMBER_233_EVER', 'DATEFIRSTREG_TAXREG_REGDATE_day_diff', # check drop, here was comma\n",
        "              'DATEFIRSTREG_TAXREG_REGDATE_day_delta', 'TAXREG_REGDATE_DATEFIRSTREG_day_delta',\n",
        "              'DATEFIRSTREG_TAXREG_REGDATE_day_delta', 'TAXREGPAY_REGDATE_SIGN_DATE_day_delta']\n",
        "\n",
        "features_to_ignore = col2ignor + ['TARGET','id_contract', 'id_client',\n",
        "                                  'TAXREG_REGDATE', 'TAXREGPAY_REGDATE','SIGN_DATE', 'BIRTHDATE','DATEFIRSTREG']\n",
        "\n",
        "\n",
        "for col in tqdm(train_data.columns):\n",
        "    \n",
        "    if col not in features_to_ignore: # col in feature2use: \n",
        "        \n",
        "        if 'CODE' in col:\n",
        "            if col not in cat_features:\n",
        "                cat_features.append(col)   \n",
        "                \n",
        "        elif train_data[col].nunique() <= 85 and 'DATE' not in col and 'NUMBER' not in col and 'COUNT' not in col and 'F' != col[0] and 'SUM' not in col and 'WORKERSRANGE' not in col and 'AGE' not in col:\n",
        "            if col not in cat_features:\n",
        "                cat_features.append(col) \n",
        "                \n",
        "        else:\n",
        "            if col not in cat_features:\n",
        "                num_features.append(col)\n",
        "        \n",
        "\n",
        "print('Всего столбцов', len(train_data.columns))  \n",
        "print('Численных признаков', len(num_features))\n",
        "print('Категориальных признаков', len(cat_features))\n",
        "\n",
        "filtered_features = cat_features  + num_features\n",
        "print('filtered_features', len(filtered_features))"
      ],
      "metadata": {
        "id": "ZlP7xu-X1bFD",
        "colab": {
          "base_uri": "https://localhost:8080/"
        },
        "outputId": "30d03c87-8b71-4918-b38c-4ef431a1fc9f"
      },
      "execution_count": 17,
      "outputs": [
        {
          "output_type": "stream",
          "name": "stderr",
          "text": [
            "100%|██████████| 388/388 [00:00<00:00, 2357.89it/s]"
          ]
        },
        {
          "output_type": "stream",
          "name": "stdout",
          "text": [
            "Всего столбцов 388\n",
            "Численных признаков 341\n",
            "Категориальных признаков 33\n",
            "filtered_features 374\n"
          ]
        },
        {
          "output_type": "stream",
          "name": "stderr",
          "text": [
            "\n"
          ]
        }
      ]
    },
    {
      "cell_type": "code",
      "source": [
        "train_data = train_data[filtered_features + ['TARGET']]\n",
        "test_data = test_data[filtered_features]\n",
        "    \n",
        "for col_name in cat_features: \n",
        "    train_data[col_name] = train_data[col_name].astype(str)\n",
        "    test_data[col_name] = test_data[col_name].astype(str)"
      ],
      "metadata": {
        "id": "-R1xx8aQkBQ5"
      },
      "execution_count": 18,
      "outputs": []
    },
    {
      "cell_type": "code",
      "source": [
        "print(\"Train shape \",train_data.shape)\n",
        "print(\"Test shape \",test_data.shape)"
      ],
      "metadata": {
        "colab": {
          "base_uri": "https://localhost:8080/"
        },
        "id": "IUxUv0Uinalx",
        "outputId": "22216a46-f613-475a-848b-0b803d290fd9"
      },
      "execution_count": 19,
      "outputs": [
        {
          "output_type": "stream",
          "name": "stdout",
          "text": [
            "Train shape  (14312, 375)\n",
            "Test shape  (3579, 374)\n"
          ]
        }
      ]
    },
    {
      "cell_type": "markdown",
      "source": [
        "# Modelling with Catboost"
      ],
      "metadata": {
        "id": "mahFzocVtlAd"
      }
    },
    {
      "cell_type": "markdown",
      "source": [
        "First we will do fast and lazy learning with Catboost"
      ],
      "metadata": {
        "id": "x_8-BE-aok-c"
      }
    },
    {
      "cell_type": "markdown",
      "source": [
        "https://coderzcolumn.com/tutorials/machine-learning/catboost-an-in-depth-guide-python\n",
        "\n",
        "https://colab.research.google.com/github/catboost/tutorials/blob/master/python_tutorial.ipynb#scrollTo=iCEU8FP8U970"
      ],
      "metadata": {
        "id": "wQxQBX5rHqCK"
      }
    },
    {
      "cell_type": "code",
      "source": [
        "SEED = 42"
      ],
      "metadata": {
        "id": "mdLeOsMWbUiW"
      },
      "execution_count": 20,
      "outputs": []
    },
    {
      "cell_type": "code",
      "source": [
        "%%script false\n",
        "# checking\n",
        "\n",
        "print(\"Columns with missing values in train set:\")\n",
        "[feature for feature in train_data.columns if train_data.isnull().any()[feature] == True]"
      ],
      "metadata": {
        "id": "a0NZQzvmeGwd"
      },
      "execution_count": 21,
      "outputs": []
    },
    {
      "cell_type": "code",
      "source": [
        "X = train_data.drop([\"TARGET\"], axis=1)\n",
        "y = train_data['TARGET'].values"
      ],
      "metadata": {
        "id": "9j8XjMIocgOM"
      },
      "execution_count": 22,
      "outputs": []
    },
    {
      "cell_type": "code",
      "source": [
        "X_train_cat, X_validation, y_train_cat, y_validation = train_test_split(X, y, test_size=0.25, random_state=SEED)\n",
        "X_test_cat = test_data"
      ],
      "metadata": {
        "id": "VTZtEpxzYT2N"
      },
      "execution_count": 23,
      "outputs": []
    },
    {
      "cell_type": "markdown",
      "source": [
        "**Implementation with GPU**"
      ],
      "metadata": {
        "id": "wBdkyTQhluaF"
      }
    },
    {
      "cell_type": "code",
      "source": [
        "%%script false\n",
        "\n",
        "%%time\n",
        "\n",
        "params = {'loss_function':'Logloss', # objective function\n",
        "          'eval_metric':'AUC', # metric\n",
        "          'verbose': 200, # output to stdout info about training process every 200 iterations\n",
        "          'random_seed': SEED,\n",
        "           'early_stopping_rounds': 200,\n",
        "           'border_count': 32,\n",
        "          # 'task_type': 'GPU',\n",
        "           'cat_features' : cat_features\n",
        "          \n",
        "         }  \n",
        "\n",
        "cbc_1 = CatBoostClassifier(**params)\n",
        "cbc_1.fit(X_train_cat, y_train_cat, # data to train on (required parameters, unless we provide X as a pool object, will be shown below)\n",
        "          eval_set=(X_validation, y_validation), # data to validate on\n",
        "          use_best_model=True # True if we don't want to save trees created after iteration with the best validation score\n",
        "         );"
      ],
      "metadata": {
        "id": "qGkymD7NZ-TW"
      },
      "execution_count": 24,
      "outputs": []
    },
    {
      "cell_type": "markdown",
      "source": [
        "**Implementation with CPU**"
      ],
      "metadata": {
        "id": "PSzIqoG3mM_9"
      }
    },
    {
      "cell_type": "code",
      "source": [
        "%%script false\n",
        "\n",
        "%%time\n",
        "\n",
        "params = {'loss_function':'Logloss',\n",
        "          'eval_metric':'AUC',\n",
        "          'cat_features': cat_features,\n",
        "          'early_stopping_rounds': 200,\n",
        "          'verbose': 200,\n",
        "          'border_count': 32,\n",
        "          'random_seed': SEED\n",
        "         }\n",
        "\n",
        "cbc_2 = CatBoostClassifier(**params)\n",
        "cbc_2.fit(X_train_cat, y_train_cat, \n",
        "          eval_set=(X_validation, y_validation), \n",
        "          use_best_model=True\n",
        "         );"
      ],
      "metadata": {
        "id": "wkWoO3SYmIjt"
      },
      "execution_count": 25,
      "outputs": []
    },
    {
      "cell_type": "markdown",
      "source": [
        "Conclusion - performing fitting with GPU took more time in comparison with CPU:\n",
        "\n",
        "\n",
        "1.   GPU - 1 min 1s\n",
        "2.   CPU - 49 s\n",
        "\n"
      ],
      "metadata": {
        "id": "itJm-ENLmyuB"
      }
    },
    {
      "cell_type": "markdown",
      "source": [
        "**Implementation with CPU using cross-validation technic**"
      ],
      "metadata": {
        "id": "E0o_x8vNlouU"
      }
    },
    {
      "cell_type": "code",
      "source": [
        "params = {'loss_function':'Logloss',\n",
        "          'eval_metric':'AUC',\n",
        "          'verbose': 200,\n",
        "          'random_seed': SEED,\n",
        "          'early_stopping_rounds': 200\n",
        "         }\n",
        "\n",
        "all_train_data = Pool(data=X,\n",
        "                      label=y,\n",
        "                      cat_features=cat_features\n",
        "                     )\n",
        "\n",
        "start_time = time.time()\n",
        "\n",
        "scores = cv(pool=all_train_data,\n",
        "            params=params, \n",
        "            fold_count=2,\n",
        "            seed=SEED, \n",
        "            shuffle=True,\n",
        "            return_models=True,\n",
        "            stratified=True # if True the folds are made by preserving the percentage of samples for each class\n",
        "           )\n",
        "\n",
        "fit_time = (time.time() - start_time)\n",
        "print(\"Fitting was lasting: \", fit_time)\n",
        "\n",
        "cat_boost_model_first = [scores, fit_time]"
      ],
      "metadata": {
        "id": "KpkWHkvgjgDA",
        "colab": {
          "base_uri": "https://localhost:8080/"
        },
        "outputId": "587e67fa-c008-4d28-b147-28e9a723600e"
      },
      "execution_count": 26,
      "outputs": [
        {
          "output_type": "stream",
          "name": "stdout",
          "text": [
            "Training on fold [0/2]\n",
            "0:\ttest: 0.8912251\tbest: 0.8912251 (0)\ttotal: 194ms\tremaining: 3m 13s\n",
            "200:\ttest: 0.9577943\tbest: 0.9577985 (199)\ttotal: 24.9s\tremaining: 1m 38s\n",
            "400:\ttest: 0.9599179\tbest: 0.9599179 (400)\ttotal: 48.9s\tremaining: 1m 13s\n",
            "600:\ttest: 0.9601552\tbest: 0.9602950 (570)\ttotal: 1m 12s\tremaining: 48.2s\n",
            "800:\ttest: 0.9603994\tbest: 0.9605051 (715)\ttotal: 1m 36s\tremaining: 23.9s\n",
            "999:\ttest: 0.9603899\tbest: 0.9605590 (878)\ttotal: 1m 59s\tremaining: 0us\n",
            "\n",
            "bestTest = 0.9605590395\n",
            "bestIteration = 878\n",
            "\n",
            "Training on fold [1/2]\n",
            "0:\ttest: 0.9021934\tbest: 0.9021934 (0)\ttotal: 136ms\tremaining: 2m 15s\n",
            "200:\ttest: 0.9598102\tbest: 0.9598102 (200)\ttotal: 24.8s\tremaining: 1m 38s\n",
            "400:\ttest: 0.9613710\tbest: 0.9614013 (395)\ttotal: 48.7s\tremaining: 1m 12s\n",
            "\n",
            "bestTest = 0.9614012569\n",
            "bestIteration = 395\n",
            "\n",
            "Fitting was lasting:  192.84433245658875\n"
          ]
        }
      ]
    },
    {
      "cell_type": "code",
      "source": [
        "pickle_out = open(path_pikcle + \"cat_boost_model_first.pickle\", \"wb\")\n",
        "pickle.dump(cat_boost_model_first, pickle_out)\n",
        "pickle_out.close()"
      ],
      "metadata": {
        "id": "mq-91ktq5G7U"
      },
      "execution_count": 27,
      "outputs": []
    },
    {
      "cell_type": "markdown",
      "source": [
        "# Converting"
      ],
      "metadata": {
        "id": "k-Sv_GdBRM8A"
      }
    },
    {
      "cell_type": "markdown",
      "source": [
        "Rare values are categories within a categorical variable that are present only in a small percentage of the observations. There is no rule of thumb to determine how small is a small percentage, but typically, any value below 5 % can be considered rare."
      ],
      "metadata": {
        "id": "r7MmhiwGbJN7"
      }
    },
    {
      "cell_type": "markdown",
      "source": [
        "Infrequent labels are so few, that it is hard to derive reliable information from them. But more importantly, infrequent labels tend to appear only on train set or only on the test set:\n",
        "\n",
        "*   If only on the train set, they may cause over-fitting\n",
        "*   If only on the test set, our machine learning model will not know how to score them.\n",
        "\n",
        "Therefore, to avoid this behaviour, we tend to group those into a new category called 'Rare' or 'Other'."
      ],
      "metadata": {
        "id": "3Oj1LQzHcZwa"
      }
    },
    {
      "cell_type": "code",
      "source": [
        "# find categorical variables\n",
        "# those of type 'Object' in the dataset\n",
        "features_categorical = [c for c in train_data.columns if train_data[c].dtypes=='O']\n",
        "\n",
        "# find numerical variables\n",
        "# those different from object and also excluding the target\n",
        "features_numerical = [c for c in train_data.columns if train_data[c].dtypes!='O' and c !='TARGET']"
      ],
      "metadata": {
        "id": "xbTc2BLUk2J2"
      },
      "execution_count": 28,
      "outputs": []
    },
    {
      "cell_type": "markdown",
      "source": [
        "**Variables with one dominant category**"
      ],
      "metadata": {
        "id": "wCi15kWOdpsn"
      }
    },
    {
      "cell_type": "code",
      "source": [
        "# let's explore a few examples in which variables have only a few categories, say less than 3\n",
        "\n",
        "for col in train_data.columns:\n",
        "    \n",
        "    if train_data[col].dtypes == 'O':  # if the variable is categorical\n",
        "        \n",
        "        if train_data[col].nunique() < 3:  # if the variable has less than 3 categories\n",
        "            \n",
        "            # print percentage of observations per category\n",
        "            print(train_data.groupby(col)[col].count() / len(train_data))\n",
        "            print()"
      ],
      "metadata": {
        "id": "WjVFGAfBdqoZ"
      },
      "execution_count": null,
      "outputs": []
    },
    {
      "cell_type": "code",
      "source": [
        "(train_data[\"CITIZENSHIP_NAME\"].value_counts(normalize = True)*100).sort_values(ascending = False).plot(kind = \"pie\", fontsize = 5, figsize = (10,10));"
      ],
      "metadata": {
        "id": "HoxEcMAmfrKQ",
        "colab": {
          "base_uri": "https://localhost:8080/",
          "height": 575
        },
        "outputId": "01907a8f-5c2e-4112-9e1d-2c671ee62bb8"
      },
      "execution_count": 42,
      "outputs": [
        {
          "output_type": "display_data",
          "data": {
            "image/png": "[encoded data removed]",
            "text/plain": [
              "<Figure size 720x720 with 1 Axes>"
            ]
          },
          "metadata": {}
        }
      ]
    },
    {
      "cell_type": "markdown",
      "source": [
        "*Some variables above show one dominating category. Re-grouping the rare label in this situation does not make any sense. We could determine if these variables are useful with exploratory analysis, or any feature selection algorithm, or drop the variables altogether.*"
      ],
      "metadata": {
        "id": "h8NBspH6eX0T"
      }
    },
    {
      "cell_type": "markdown",
      "source": [
        "**Variables with few categories**"
      ],
      "metadata": {
        "id": "dyMidVJYe1Vx"
      }
    },
    {
      "cell_type": "code",
      "source": [
        "# let's explore examples in which variables have several categories, say more than 10\n",
        "\n",
        "multi_cat_cols = []\n",
        "\n",
        "for col in train_data.columns:\n",
        "\n",
        "    if train_data[col].dtypes =='O': # if variable  is categorical\n",
        "    \n",
        "        if 2 < train_data[col].nunique() <= 10: # has more than 2 but less than 10 categories\n",
        "            \n",
        "            multi_cat_cols.append(col)  # add to the list\n",
        "            \n",
        "            print(train_data.groupby(col)[col].count()/ len(train_data)) # and print the percentage of observations within each category\n",
        "            \n",
        "            print()"
      ],
      "metadata": {
        "id": "p70tUJ8Th9nS"
      },
      "execution_count": null,
      "outputs": []
    },
    {
      "cell_type": "code",
      "source": [
        "(train_data[\"OKOPF_GROUP\"].value_counts(normalize = True)*100).sort_values(ascending = False).plot(kind = \"pie\", fontsize = 10, figsize = (10,10));"
      ],
      "metadata": {
        "id": "J4QH9litfrWr",
        "colab": {
          "base_uri": "https://localhost:8080/",
          "height": 575
        },
        "outputId": "7f1e589d-56b0-42c2-b30d-ab8b979db40e"
      },
      "execution_count": 44,
      "outputs": [
        {
          "output_type": "display_data",
          "data": {
            "image/png": "[encoded data removed]",
            "text/plain": [
              "<Figure size 720x720 with 1 Axes>"
            ]
          },
          "metadata": {}
        }
      ]
    },
    {
      "cell_type": "markdown",
      "source": [
        "**Variable with high cardinality**"
      ],
      "metadata": {
        "id": "bekwYA40gJA_"
      }
    },
    {
      "cell_type": "code",
      "source": [
        "# let's explore examples in which variables have several categories, say more than 10\n",
        "\n",
        "multi_cat_cols = []\n",
        "\n",
        "for col in train_data.columns:\n",
        "\n",
        "    if train_data[col].dtypes =='O': # if variable  is categorical\n",
        "    \n",
        "        if train_data[col].nunique() > 10: # and has more than 10 categories\n",
        "            \n",
        "            multi_cat_cols.append(col)  # add to the list\n",
        "            \n",
        "            print(train_data.groupby(col)[col].count()/ len(train_data)) # and print the percentage of observations within each category\n",
        "            \n",
        "            print()"
      ],
      "metadata": {
        "id": "vMcx8mw7fT6n"
      },
      "execution_count": null,
      "outputs": []
    },
    {
      "cell_type": "code",
      "source": [
        "(train_data[\"OKATO_REGIONCODE\"].value_counts(normalize = True)*100).sort_values(ascending = False).plot(kind = \"pie\", fontsize = 10, figsize = (10,10));"
      ],
      "metadata": {
        "id": "tfo-N3x4frZz"
      },
      "execution_count": null,
      "outputs": []
    },
    {
      "cell_type": "markdown",
      "source": [
        "**Re-grouping rare labels**"
      ],
      "metadata": {
        "id": "adIHwn24gmHP"
      }
    },
    {
      "cell_type": "code",
      "source": [
        "from feature_engine.encoding import RareLabelEncoder"
      ],
      "metadata": {
        "id": "lnSGlvnDmWj1"
      },
      "execution_count": 32,
      "outputs": []
    },
    {
      "cell_type": "code",
      "source": [
        "# Rare value encoder\n",
        "rare_encoder = RareLabelEncoder(\n",
        "    tol=0.05,  # minimal percentage to be considered non-rare\n",
        "    n_categories=4, # minimal number of categories the variable should have to re-cgroup rare categories\n",
        "    variables=features_categorical # variables to re-group\n",
        ")  "
      ],
      "metadata": {
        "id": "0bOzGvIlmijK"
      },
      "execution_count": 33,
      "outputs": []
    },
    {
      "cell_type": "code",
      "source": [
        "rare_encoder.fit(train_data.drop([\"TARGET\"], axis=1))"
      ],
      "metadata": {
        "colab": {
          "base_uri": "https://localhost:8080/"
        },
        "id": "SQDjsguRm_k5",
        "outputId": "a9db79b7-b0c9-415b-d2bc-4c374fcd444d"
      },
      "execution_count": 34,
      "outputs": [
        {
          "output_type": "execute_result",
          "data": {
            "text/plain": [
              "RareLabelEncoder(n_categories=4,\n",
              "                 variables=['OKTMO_CODE', 'OKVED_CODE', 'CITIZENSHIP_NAME',\n",
              "                            'IP_flag', 'EGRPOINCLUDED', 'OKFS_GROUP',\n",
              "                            'OKOPF_GROUP', 'OKOGU_GROUP', 'OKATO_REGIONCODE',\n",
              "                            'OKATO_FED', 'OKTMO_FED', 'SEX_NAME',\n",
              "                            'EGRPOINCLUDED_na', 'OKFS_GROUP_na',\n",
              "                            'OKOPF_GROUP_na', 'OKOGU_GROUP_na',\n",
              "                            'OKATO_REGIONCODE_na', 'OKATO_FED_na',\n",
              "                            'OKTMO_CODE_na', 'OKTMO_FED_na', 'OKVED_CODE_na',\n",
              "                            'THIRDOROTHERPERSON_YEAR_na',\n",
              "                            'THIRDOROTHERPERSON_EVER_na', 'SEX_NAME_na',\n",
              "                            'CITIZENSHIP_NAME_na', 'OKVED_CODE_2',\n",
              "                            'OKVED_CODE_4', 'OKVED_CODE_5', 'OKVED_CODE_7',\n",
              "                            'OKVED_CODE_8', ...])"
            ]
          },
          "metadata": {},
          "execution_count": 34
        }
      ]
    },
    {
      "cell_type": "code",
      "source": [
        "X_train = rare_encoder.transform(train_data.drop([\"TARGET\"], axis=1))\n",
        "X_test = rare_encoder.transform(test_data)"
      ],
      "metadata": {
        "id": "-xOtW6FJmmon"
      },
      "execution_count": 35,
      "outputs": []
    },
    {
      "cell_type": "markdown",
      "source": [
        "**Categorical Encoding using Count or frequency encoding** "
      ],
      "metadata": {
        "id": "mXft5mnbbihv"
      }
    },
    {
      "cell_type": "markdown",
      "source": [
        "In count encoding we replace the categories by the count of the observations that show that category in the dataset.\n",
        "\n",
        "The assumption of this technique is that the number observations shown by each variable is somewhat informative of the predictive power of the category."
      ],
      "metadata": {
        "id": "WyM8mKMTt4Z9"
      }
    },
    {
      "cell_type": "markdown",
      "source": [
        "Disadvantages\n",
        "\n",
        "If 2 different categories appear the same amount of times in the dataset, that is, they appear in the same number of observations, they will be replaced by the same number: may lose valuable information."
      ],
      "metadata": {
        "id": "6oF2_09uuQNw"
      }
    },
    {
      "cell_type": "code",
      "source": [
        "# to encode with feature-engine\n",
        "from feature_engine.encoding import CountFrequencyEncoder"
      ],
      "metadata": {
        "id": "XnOqklfvu7xR"
      },
      "execution_count": 36,
      "outputs": []
    },
    {
      "cell_type": "code",
      "source": [
        "count_enc = CountFrequencyEncoder(\n",
        "    encoding_method='frequency',\n",
        "    variables=features_categorical)\n",
        "\n",
        "count_enc.fit(X_train)"
      ],
      "metadata": {
        "colab": {
          "base_uri": "https://localhost:8080/"
        },
        "id": "b6pzPOTcuYLX",
        "outputId": "a81bff4a-f835-43be-e2be-000c14093585"
      },
      "execution_count": 37,
      "outputs": [
        {
          "output_type": "execute_result",
          "data": {
            "text/plain": [
              "CountFrequencyEncoder(encoding_method='frequency',\n",
              "                      variables=['OKTMO_CODE', 'OKVED_CODE', 'CITIZENSHIP_NAME',\n",
              "                                 'IP_flag', 'EGRPOINCLUDED', 'OKFS_GROUP',\n",
              "                                 'OKOPF_GROUP', 'OKOGU_GROUP',\n",
              "                                 'OKATO_REGIONCODE', 'OKATO_FED', 'OKTMO_FED',\n",
              "                                 'SEX_NAME', 'EGRPOINCLUDED_na',\n",
              "                                 'OKFS_GROUP_na', 'OKOPF_GROUP_na',\n",
              "                                 'OKOGU_GROUP_na', 'OKATO_REGIONCODE_na',\n",
              "                                 'OKATO_FED_na', 'OKTMO_CODE_na',\n",
              "                                 'OKTMO_FED_na', 'OKVED_CODE_na',\n",
              "                                 'THIRDOROTHERPERSON_YEAR_na',\n",
              "                                 'THIRDOROTHERPERSON_EVER_na', 'SEX_NAME_na',\n",
              "                                 'CITIZENSHIP_NAME_na', 'OKVED_CODE_2',\n",
              "                                 'OKVED_CODE_4', 'OKVED_CODE_5', 'OKVED_CODE_7',\n",
              "                                 'OKVED_CODE_8', ...])"
            ]
          },
          "metadata": {},
          "execution_count": 37
        }
      ]
    },
    {
      "cell_type": "code",
      "source": [
        "# perform encoding\n",
        "X_train = count_enc.transform(X_train)\n",
        "X_test = count_enc.transform(X_test)"
      ],
      "metadata": {
        "id": "LvHATOspu1ma"
      },
      "execution_count": 38,
      "outputs": []
    },
    {
      "cell_type": "code",
      "source": [
        "# check for presence of object type columns\n",
        "X_train.info()"
      ],
      "metadata": {
        "colab": {
          "base_uri": "https://localhost:8080/"
        },
        "id": "Ob2-Q5GMu_-G",
        "outputId": "c4e15764-8abd-4668-c5de-d18db6ff56d8"
      },
      "execution_count": 39,
      "outputs": [
        {
          "output_type": "stream",
          "name": "stdout",
          "text": [
            "<class 'pandas.core.frame.DataFrame'>\n",
            "Int64Index: 14312 entries, 3391 to 11481\n",
            "Columns: 374 entries, OKTMO_CODE to MANAGERINNCOUNT_std\n",
            "dtypes: float64(251), int64(123)\n",
            "memory usage: 40.9 MB\n"
          ]
        }
      ]
    },
    {
      "cell_type": "markdown",
      "source": [
        "# Exploratory Analysis with Statistics"
      ],
      "metadata": {
        "id": "d5aD660WReYW"
      }
    },
    {
      "cell_type": "markdown",
      "source": [
        "As our data is cleaned, we will explore our data with descriptive and graphical statistics to describe and summarize our variables."
      ],
      "metadata": {
        "id": "h4PekeCCzEJ9"
      }
    },
    {
      "cell_type": "code",
      "source": [
        "#correlation heatmap of dataset\n",
        "def correlation_heatmap(df):\n",
        "    _ , ax = plt.subplots(figsize =(14, 12))\n",
        "    colormap = sns.diverging_palette(220, 10, as_cmap = True)\n",
        "    \n",
        "    _ = sns.heatmap(\n",
        "        df.corr(), \n",
        "        cmap = colormap,\n",
        "        square=True, \n",
        "        cbar_kws={'shrink':.9 }, \n",
        "        ax=ax,\n",
        "        annot=True, \n",
        "        linewidths=0.1,vmax=1.0, linecolor='white',\n",
        "        annot_kws={'fontsize':12 }\n",
        "    )\n",
        "    \n",
        "    plt.title('Pearson Correlation of Features', y=1.05, size=15)\n",
        "\n",
        "correlation_heatmap(data1)"
      ],
      "metadata": {
        "id": "9y42XF-ly6PE"
      },
      "execution_count": null,
      "outputs": []
    },
    {
      "cell_type": "markdown",
      "source": [
        "# Fitting with other classification algorithms"
      ],
      "metadata": {
        "id": "ld9Z3pZIRqg9"
      }
    },
    {
      "cell_type": "code",
      "source": [
        "# checking\n",
        "\n",
        "print(\"Columns with missing values in train set:\")\n",
        "[feature for feature in X_train.columns if X_train.isnull().any()[feature] == True]"
      ],
      "metadata": {
        "colab": {
          "base_uri": "https://localhost:8080/"
        },
        "id": "pp5a0CHWX-9c",
        "outputId": "9e0c9fb6-0314-4a80-ab69-cb5a9713048e"
      },
      "execution_count": null,
      "outputs": [
        {
          "output_type": "stream",
          "name": "stdout",
          "text": [
            "Columns with missing values in train set:\n"
          ]
        },
        {
          "output_type": "execute_result",
          "data": {
            "text/plain": [
              "[]"
            ]
          },
          "metadata": {},
          "execution_count": 28
        }
      ]
    },
    {
      "cell_type": "markdown",
      "source": [
        "https://www.kaggle.com/andreyrus/tps-apr-rf-with-intel-extension-for-scikit-learn/notebook"
      ],
      "metadata": {
        "id": "d2UruuXKJKQG"
      }
    },
    {
      "cell_type": "code",
      "source": [
        "from sklearnex import patch_sklearn\n",
        "patch_sklearn(global_patch=True) # make learning a little bit faster\n",
        "\n",
        "from sklearn import svm, tree, linear_model, neighbors, naive_bayes, ensemble, discriminant_analysis, gaussian_process\n",
        "from xgboost import XGBClassifier\n",
        "\n",
        "#Machine Learning Algorithm (MLA) Selection and Initialization\n",
        "MLA = [\n",
        "    # #Ensemble Methods\n",
        "    # ensemble.AdaBoostClassifier(),\n",
        "    # ensemble.BaggingClassifier(),\n",
        "    # ensemble.ExtraTreesClassifier(),\n",
        "    # ensemble.GradientBoostingClassifier(),\n",
        "    ensemble.RandomForestClassifier()\n",
        "\n",
        "    # #Gaussian Processes\n",
        "    # gaussian_process.GaussianProcessClassifier(),\n",
        "    \n",
        "    #GLM\n",
        "    # linear_model.LogisticRegressionCV(),\n",
        "    # linear_model.PassiveAggressiveClassifier(),\n",
        "    # linear_model.RidgeClassifierCV(),\n",
        "    # linear_model.SGDClassifier(),\n",
        "    # linear_model.Perceptron(),\n",
        "    \n",
        "    # #Navies Bayes\n",
        "    # naive_bayes.BernoulliNB(),\n",
        "    # naive_bayes.GaussianNB(),\n",
        "    \n",
        "    #Nearest Neighbor\n",
        "    # neighbors.KNeighborsClassifier(),\n",
        "    \n",
        "    #SVM\n",
        "    # svm.SVC(probability=True),\n",
        "    # svm.NuSVC(probability=True),\n",
        "    # svm.LinearSVC(),\n",
        "    \n",
        "    # #Trees    \n",
        "    # tree.DecisionTreeClassifier(),\n",
        "    # tree.ExtraTreeClassifier(),\n",
        "    \n",
        "    # #Discriminant Analysis\n",
        "    # discriminant_analysis.LinearDiscriminantAnalysis(),\n",
        "    # discriminant_analysis.QuadraticDiscriminantAnalysis(),\n",
        "\n",
        "    \n",
        "    # #xgboost: http://xgboost.readthedocs.io/en/latest/model.html\n",
        "    # XGBClassifier()    \n",
        "    ]\n",
        "\n",
        "\n",
        "\n",
        "#split dataset in cross-validation with this splitter class: http://scikit-learn.org/stable/modules/generated/sklearn.model_selection.ShuffleSplit.html#sklearn.model_selection.ShuffleSplit\n",
        "#note: this is an alternative to train_test_split\n",
        "cv_split = model_selection.ShuffleSplit(n_splits = 5, test_size = .3, train_size = .6, random_state = 0 ) # run model 10x with 60/30 split intentionally leaving out 10%\n",
        "\n",
        "#create table to compare MLA metrics\n",
        "MLA_columns = ['MLA Name', 'MLA Parameters','MLA Train Accuracy Mean', 'MLA Test Accuracy Mean', 'MLA Test Accuracy 3*STD' ,'MLA Time']\n",
        "MLA_compare = pd.DataFrame(columns = MLA_columns)\n",
        "\n",
        "\n",
        "#create table to compare MLA predictions\n",
        "target = train_data[\"TARGET\"].values.reshape((14312,1))\n",
        "MLA_predict = train_data[\"TARGET\"]\n",
        "\n",
        "#index through MLA and save performance to table\n",
        "row_index = 0\n",
        "for alg in MLA:\n",
        "\n",
        "    #set name and parameters\n",
        "    MLA_name = alg.__class__.__name__\n",
        "    MLA_compare.loc[row_index, 'MLA Name'] = MLA_name\n",
        "    MLA_compare.loc[row_index, 'MLA Parameters'] = str(alg.get_params())\n",
        "    \n",
        "    #score model with cross validation: http://scikit-learn.org/stable/modules/generated/sklearn.model_selection.cross_validate.html#sklearn.model_selection.cross_validate\n",
        "    cv_results = model_selection.cross_validate(alg, X_train, target, cv  = cv_split, n_jobs = -1, scoring = \"roc_auc\", return_train_score=True, verbose=True) # turn on all cores\n",
        "    print(f\"Model {MLA_name} is trained\")\n",
        "    \n",
        "    MLA_compare.loc[row_index, 'MLA Time'] = cv_results['fit_time'].mean()\n",
        "    MLA_compare.loc[row_index, 'MLA Train Accuracy Mean'] = cv_results['train_score'].mean()\n",
        "    MLA_compare.loc[row_index, 'MLA Test Accuracy Mean'] = cv_results['test_score'].mean()   \n",
        "    #if this is a non-bias random sample, then +/-3 standard deviations (std) from the mean, should statistically capture 99.7% of the subsets\n",
        "    MLA_compare.loc[row_index, 'MLA Test Accuracy 3*STD'] = cv_results['test_score'].std()*3   #let's know the worst that can happen!\n",
        "    \n",
        "\n",
        "    #save MLA predictions - see section 6 for usage\n",
        "    alg.fit(X_train, target)\n",
        "    MLA_predict[MLA_name] = alg.predict(X_train)\n",
        "    \n",
        "    row_index+=1\n",
        "\n",
        "    \n",
        "#print and sort table: https://pandas.pydata.org/pandas-docs/stable/generated/pandas.DataFrame.sort_values.html\n",
        "MLA_compare.sort_values(by = ['MLA Test Accuracy Mean'], ascending = False, inplace = True)\n",
        "MLA_compare\n",
        "#MLA_predict"
      ],
      "metadata": {
        "colab": {
          "base_uri": "https://localhost:8080/",
          "height": 0
        },
        "id": "fOWu-YI6w085",
        "outputId": "f4db6d66-34ee-49aa-8975-f480ecf3d68c"
      },
      "execution_count": 48,
      "outputs": [
        {
          "output_type": "stream",
          "name": "stdout",
          "text": [
            "Scikit-learn was successfully globally patched by Intel(R) Extension for Scikit-learn\n"
          ]
        },
        {
          "output_type": "stream",
          "name": "stderr",
          "text": [
            "Intel(R) Extension for Scikit-learn* enabled (https://github.com/intel/scikit-learn-intelex)\n",
            "[Parallel(n_jobs=-1)]: Using backend LokyBackend with 2 concurrent workers.\n",
            "[Parallel(n_jobs=-1)]: Done   5 out of   5 | elapsed:   31.6s finished\n"
          ]
        },
        {
          "output_type": "stream",
          "name": "stdout",
          "text": [
            "Model RandomForestClassifier is trained\n"
          ]
        },
        {
          "output_type": "execute_result",
          "data": {
            "text/html": [
              "\n",
              "  <div id=\"df-64a01532-a5f3-4781-aa16-f8207c0cb43b\">\n",
              "    <div class=\"colab-df-container\">\n",
              "      <div>\n",
              "<style scoped>\n",
              "    .dataframe tbody tr th:only-of-type {\n",
              "        vertical-align: middle;\n",
              "    }\n",
              "\n",
              "    .dataframe tbody tr th {\n",
              "        vertical-align: top;\n",
              "    }\n",
              "\n",
              "    .dataframe thead th {\n",
              "        text-align: right;\n",
              "    }\n",
              "</style>\n",
              "<table border=\"1\" class=\"dataframe\">\n",
              "  <thead>\n",
              "    <tr style=\"text-align: right;\">\n",
              "      <th></th>\n",
              "      <th>MLA Name</th>\n",
              "      <th>MLA Parameters</th>\n",
              "      <th>MLA Train Accuracy Mean</th>\n",
              "      <th>MLA Test Accuracy Mean</th>\n",
              "      <th>MLA Test Accuracy 3*STD</th>\n",
              "      <th>MLA Time</th>\n",
              "    </tr>\n",
              "  </thead>\n",
              "  <tbody>\n",
              "    <tr>\n",
              "      <th>0</th>\n",
              "      <td>RandomForestClassifier</td>\n",
              "      <td>{'bootstrap': True, 'ccp_alpha': 0.0, 'class_w...</td>\n",
              "      <td>1</td>\n",
              "      <td>0.951151</td>\n",
              "      <td>0.0102761</td>\n",
              "      <td>9.456</td>\n",
              "    </tr>\n",
              "  </tbody>\n",
              "</table>\n",
              "</div>\n",
              "      <button class=\"colab-df-convert\" onclick=\"convertToInteractive('df-64a01532-a5f3-4781-aa16-f8207c0cb43b')\"\n",
              "              title=\"Convert this dataframe to an interactive table.\"\n",
              "              style=\"display:none;\">\n",
              "        \n",
              "  <svg xmlns=\"http://www.w3.org/2000/svg\" height=\"24px\"viewBox=\"0 0 24 24\"\n",
              "       width=\"24px\">\n",
              "    <path d=\"M0 0h24v24H0V0z\" fill=\"none\"/>\n",
              "    <path d=\"M18.56 5.44l.94 2.06.94-2.06 2.06-.94-2.06-.94-.94-2.06-.94 2.06-2.06.94zm-11 1L8.5 8.5l.94-2.06 2.06-.94-2.06-.94L8.5 2.5l-.94 2.06-2.06.94zm10 10l.94 2.06.94-2.06 2.06-.94-2.06-.94-.94-2.06-.94 2.06-2.06.94z\"/><path d=\"M17.41 7.96l-1.37-1.37c-.4-.4-.92-.59-1.43-.59-.52 0-1.04.2-1.43.59L10.3 9.45l-7.72 7.72c-.78.78-.78 2.05 0 2.83L4 21.41c.39.39.9.59 1.41.59.51 0 1.02-.2 1.41-.59l7.78-7.78 2.81-2.81c.8-.78.8-2.07 0-2.86zM5.41 20L4 18.59l7.72-7.72 1.47 1.35L5.41 20z\"/>\n",
              "  </svg>\n",
              "      </button>\n",
              "      \n",
              "  <style>\n",
              "    .colab-df-container {\n",
              "      display:flex;\n",
              "      flex-wrap:wrap;\n",
              "      gap: 12px;\n",
              "    }\n",
              "\n",
              "    .colab-df-convert {\n",
              "      background-color: #E8F0FE;\n",
              "      border: none;\n",
              "      border-radius: 50%;\n",
              "      cursor: pointer;\n",
              "      display: none;\n",
              "      fill: #1967D2;\n",
              "      height: 32px;\n",
              "      padding: 0 0 0 0;\n",
              "      width: 32px;\n",
              "    }\n",
              "\n",
              "    .colab-df-convert:hover {\n",
              "      background-color: #E2EBFA;\n",
              "      box-shadow: 0px 1px 2px rgba(60, 64, 67, 0.3), 0px 1px 3px 1px rgba(60, 64, 67, 0.15);\n",
              "      fill: #174EA6;\n",
              "    }\n",
              "\n",
              "    [theme=dark] .colab-df-convert {\n",
              "      background-color: #3B4455;\n",
              "      fill: #D2E3FC;\n",
              "    }\n",
              "\n",
              "    [theme=dark] .colab-df-convert:hover {\n",
              "      background-color: #434B5C;\n",
              "      box-shadow: 0px 1px 3px 1px rgba(0, 0, 0, 0.15);\n",
              "      filter: drop-shadow(0px 1px 2px rgba(0, 0, 0, 0.3));\n",
              "      fill: #FFFFFF;\n",
              "    }\n",
              "  </style>\n",
              "\n",
              "      <script>\n",
              "        const buttonEl =\n",
              "          document.querySelector('#df-64a01532-a5f3-4781-aa16-f8207c0cb43b button.colab-df-convert');\n",
              "        buttonEl.style.display =\n",
              "          google.colab.kernel.accessAllowed ? 'block' : 'none';\n",
              "\n",
              "        async function convertToInteractive(key) {\n",
              "          const element = document.querySelector('#df-64a01532-a5f3-4781-aa16-f8207c0cb43b');\n",
              "          const dataTable =\n",
              "            await google.colab.kernel.invokeFunction('convertToInteractive',\n",
              "                                                     [key], {});\n",
              "          if (!dataTable) return;\n",
              "\n",
              "          const docLinkHtml = 'Like what you see? Visit the ' +\n",
              "            '<a target=\"_blank\" href=https://colab.research.google.com/notebooks/data_table.ipynb>data table notebook</a>'\n",
              "            + ' to learn more about interactive tables.';\n",
              "          element.innerHTML = '';\n",
              "          dataTable['output_type'] = 'display_data';\n",
              "          await google.colab.output.renderOutput(dataTable, element);\n",
              "          const docLink = document.createElement('div');\n",
              "          docLink.innerHTML = docLinkHtml;\n",
              "          element.appendChild(docLink);\n",
              "        }\n",
              "      </script>\n",
              "    </div>\n",
              "  </div>\n",
              "  "
            ],
            "text/plain": [
              "                 MLA Name  ... MLA Time\n",
              "0  RandomForestClassifier  ...    9.456\n",
              "\n",
              "[1 rows x 6 columns]"
            ]
          },
          "metadata": {},
          "execution_count": 48
        }
      ]
    },
    {
      "cell_type": "code",
      "source": [
        "pickle_out = open(path_pikcle + \"MLA_compare.pickle\", \"wb\")\n",
        "pickle.dump(MLA_compare, pickle_out)\n",
        "pickle_out.close()"
      ],
      "metadata": {
        "id": "cnzxfcu07Cqi"
      },
      "execution_count": 53,
      "outputs": []
    },
    {
      "cell_type": "markdown",
      "source": [
        "# Other algorithms vs CatBoost"
      ],
      "metadata": {
        "id": "I6bMOmZP6XpO"
      }
    },
    {
      "cell_type": "code",
      "source": [
        "pickle_in = open(path_pikcle + \"cat_boost_model_first.pickle\", \"rb\")\n",
        "cat_boost_model_first = pickle.load(pickle_in)\n",
        "pickle_in = open(path_pikcle + \"MLA_compare.pickle\", \"rb\")\n",
        "MLA_compare = pickle.load(pickle_in)"
      ],
      "metadata": {
        "id": "rPVTCrIz6D30"
      },
      "execution_count": 54,
      "outputs": []
    },
    {
      "cell_type": "code",
      "source": [
        "cv_cat_results = cat_boost_model_first[0][0]\n",
        "fit_time = cat_boost_model_first[1]"
      ],
      "metadata": {
        "id": "UALJRa4dkOYC"
      },
      "execution_count": 56,
      "outputs": []
    },
    {
      "cell_type": "code",
      "source": [
        "cv_cat_results[\"MLA Name\"] = \"CatBoost\"\n",
        "cv_cat_results[\"MLA Time\"] = fit_time"
      ],
      "metadata": {
        "id": "uePipv0Qih3I"
      },
      "execution_count": 57,
      "outputs": []
    },
    {
      "cell_type": "code",
      "source": [
        "cv_cat_results = cv_cat_results.rename(columns={\"test-AUC-mean\":\"MLA Test Accuracy Mean\", \"test-AUC-std\":\"MLA Test Accuracy 3*STD\"});"
      ],
      "metadata": {
        "id": "wb1jiQkOsMKn"
      },
      "execution_count": 58,
      "outputs": []
    },
    {
      "cell_type": "code",
      "source": [
        "cv_cat_results = cv_cat_results[['MLA Test Accuracy Mean', 'MLA Test Accuracy 3*STD', 'MLA Name', 'MLA Time']].max()"
      ],
      "metadata": {
        "id": "kb2TuGd7ZSg0"
      },
      "execution_count": 59,
      "outputs": []
    },
    {
      "cell_type": "code",
      "source": [
        "MLA_compare = MLA_compare.append(cv_cat_results, ignore_index=True).sort_values(by = \"MLA Test Accuracy Mean\")"
      ],
      "metadata": {
        "id": "5ByOedK4shVh"
      },
      "execution_count": 60,
      "outputs": []
    },
    {
      "cell_type": "code",
      "source": [
        "#barplot using https://seaborn.pydata.org/generated/seaborn.barplot.html\n",
        "sns.barplot(x='MLA Test Accuracy Mean', y = 'MLA Name', data = MLA_compare, color = 'm')\n",
        "\n",
        "#prettify using pyplot: https://matplotlib.org/api/pyplot_api.html\n",
        "plt.title('Machine Learning Algorithm Accuracy Score \\n')\n",
        "plt.xlabel('Accuracy Score (%)')\n",
        "plt.ylabel('Algorithm')"
      ],
      "metadata": {
        "colab": {
          "base_uri": "https://localhost:8080/",
          "height": 0
        },
        "id": "EnM8-56oqjMm",
        "outputId": "063ee232-4303-433a-84dd-09d422a494ea"
      },
      "execution_count": 61,
      "outputs": [
        {
          "output_type": "execute_result",
          "data": {
            "text/plain": [
              "Text(0, 0.5, 'Algorithm')"
            ]
          },
          "metadata": {},
          "execution_count": 61
        },
        {
          "output_type": "display_data",
          "data": {
            "image/png": "[encoded data removed]",
            "text/plain": [
              "<Figure size 432x288 with 1 Axes>"
            ]
          },
          "metadata": {
            "needs_background": "light"
          }
        }
      ]
    },
    {
      "cell_type": "markdown",
      "source": [
        "Obviously, CatBoost overperform XGBClassifier and RandomForestClassifier by 11111 % in terms of test score. But Catboost is slower by 111111 %.\n",
        "\n",
        "Nevetheless futher we will focus only on Catboost."
      ],
      "metadata": {
        "id": "embn5XOQ7kfC"
      }
    },
    {
      "cell_type": "markdown",
      "source": [
        "# Feature selection by CatBoost"
      ],
      "metadata": {
        "id": "cxApcDxlob4Z"
      }
    },
    {
      "cell_type": "code",
      "source": [
        "feature_importance_df = cbc_2.get_feature_importance(prettified=True)"
      ],
      "metadata": {
        "id": "zZgLnpNqtMg-"
      },
      "execution_count": null,
      "outputs": []
    },
    {
      "cell_type": "code",
      "source": [
        "feature_importance_df = feature_importance_df.loc[feature_importance_df[\"Importances\"] > 0.5]\n",
        "feature_importance_df"
      ],
      "metadata": {
        "colab": {
          "base_uri": "https://localhost:8080/"
        },
        "id": "p_tWERrmzVao",
        "outputId": "88ca2d40-06f1-4be2-88cd-a2304538d70b"
      },
      "execution_count": null,
      "outputs": [
        {
          "output_type": "execute_result",
          "data": {
            "text/html": [
              "\n",
              "  <div id=\"df-549c50a5-6f5f-432f-b74a-47b80dda75f9\">\n",
              "    <div class=\"colab-df-container\">\n",
              "      <div>\n",
              "<style scoped>\n",
              "    .dataframe tbody tr th:only-of-type {\n",
              "        vertical-align: middle;\n",
              "    }\n",
              "\n",
              "    .dataframe tbody tr th {\n",
              "        vertical-align: top;\n",
              "    }\n",
              "\n",
              "    .dataframe thead th {\n",
              "        text-align: right;\n",
              "    }\n",
              "</style>\n",
              "<table border=\"1\" class=\"dataframe\">\n",
              "  <thead>\n",
              "    <tr style=\"text-align: right;\">\n",
              "      <th></th>\n",
              "      <th>Feature Id</th>\n",
              "      <th>Importances</th>\n",
              "    </tr>\n",
              "  </thead>\n",
              "  <tbody>\n",
              "    <tr>\n",
              "      <th>0</th>\n",
              "      <td>F_contract_count_in_day_std</td>\n",
              "      <td>13.790187</td>\n",
              "    </tr>\n",
              "    <tr>\n",
              "      <th>1</th>\n",
              "      <td>OKVED_CODE_na</td>\n",
              "      <td>7.381221</td>\n",
              "    </tr>\n",
              "    <tr>\n",
              "      <th>2</th>\n",
              "      <td>F_contract_count_mean</td>\n",
              "      <td>5.009237</td>\n",
              "    </tr>\n",
              "    <tr>\n",
              "      <th>3</th>\n",
              "      <td>F_contract_count</td>\n",
              "      <td>4.755740</td>\n",
              "    </tr>\n",
              "    <tr>\n",
              "      <th>4</th>\n",
              "      <td>OKVED_CODE_5</td>\n",
              "      <td>4.718441</td>\n",
              "    </tr>\n",
              "    <tr>\n",
              "      <th>5</th>\n",
              "      <td>F_WORKERSRANGE_change_mean</td>\n",
              "      <td>3.263914</td>\n",
              "    </tr>\n",
              "    <tr>\n",
              "      <th>6</th>\n",
              "      <td>OKTMO_CODE_8</td>\n",
              "      <td>3.192605</td>\n",
              "    </tr>\n",
              "    <tr>\n",
              "      <th>7</th>\n",
              "      <td>OKVED_CODE</td>\n",
              "      <td>2.984926</td>\n",
              "    </tr>\n",
              "    <tr>\n",
              "      <th>8</th>\n",
              "      <td>DATEFIRSTREG_na</td>\n",
              "      <td>2.698245</td>\n",
              "    </tr>\n",
              "    <tr>\n",
              "      <th>9</th>\n",
              "      <td>OKVED_CODE_2</td>\n",
              "      <td>2.666958</td>\n",
              "    </tr>\n",
              "    <tr>\n",
              "      <th>10</th>\n",
              "      <td>OKVED_CODE_4</td>\n",
              "      <td>2.269244</td>\n",
              "    </tr>\n",
              "    <tr>\n",
              "      <th>11</th>\n",
              "      <td>WORKERSRANGE</td>\n",
              "      <td>1.941452</td>\n",
              "    </tr>\n",
              "    <tr>\n",
              "      <th>12</th>\n",
              "      <td>OKATO_REGIONCODE</td>\n",
              "      <td>1.937230</td>\n",
              "    </tr>\n",
              "    <tr>\n",
              "      <th>13</th>\n",
              "      <td>OKTMO_FED_na</td>\n",
              "      <td>1.909569</td>\n",
              "    </tr>\n",
              "    <tr>\n",
              "      <th>14</th>\n",
              "      <td>TELEPHONECOUNT</td>\n",
              "      <td>1.798788</td>\n",
              "    </tr>\n",
              "    <tr>\n",
              "      <th>15</th>\n",
              "      <td>TAXREGPAY_REGDATE_na</td>\n",
              "      <td>1.118135</td>\n",
              "    </tr>\n",
              "    <tr>\n",
              "      <th>16</th>\n",
              "      <td>OKATO_FED_na</td>\n",
              "      <td>1.096923</td>\n",
              "    </tr>\n",
              "    <tr>\n",
              "      <th>17</th>\n",
              "      <td>RATIO_ADMIT_NUMBER_95_EVER</td>\n",
              "      <td>0.946915</td>\n",
              "    </tr>\n",
              "    <tr>\n",
              "      <th>18</th>\n",
              "      <td>ADMITTEDNUMBER_95_YEAR_na</td>\n",
              "      <td>0.807959</td>\n",
              "    </tr>\n",
              "    <tr>\n",
              "      <th>19</th>\n",
              "      <td>OKOPF_GROUP</td>\n",
              "      <td>0.676855</td>\n",
              "    </tr>\n",
              "    <tr>\n",
              "      <th>20</th>\n",
              "      <td>F2340_na</td>\n",
              "      <td>0.676016</td>\n",
              "    </tr>\n",
              "    <tr>\n",
              "      <th>21</th>\n",
              "      <td>RATIO_WIN_NUMBER_95_YEAR</td>\n",
              "      <td>0.654700</td>\n",
              "    </tr>\n",
              "    <tr>\n",
              "      <th>22</th>\n",
              "      <td>F_22</td>\n",
              "      <td>0.645109</td>\n",
              "    </tr>\n",
              "    <tr>\n",
              "      <th>23</th>\n",
              "      <td>RATIO_WIN_NUMBER_95_EVER</td>\n",
              "      <td>0.635700</td>\n",
              "    </tr>\n",
              "    <tr>\n",
              "      <th>24</th>\n",
              "      <td>day_from_first_SIGN_DATE</td>\n",
              "      <td>0.616018</td>\n",
              "    </tr>\n",
              "    <tr>\n",
              "      <th>25</th>\n",
              "      <td>OKTMO_CODE_2</td>\n",
              "      <td>0.610682</td>\n",
              "    </tr>\n",
              "    <tr>\n",
              "      <th>26</th>\n",
              "      <td>SUM_95_EVER_na</td>\n",
              "      <td>0.602478</td>\n",
              "    </tr>\n",
              "    <tr>\n",
              "      <th>27</th>\n",
              "      <td>RATIO_ADMIT_NUMBER_95_EVER_std</td>\n",
              "      <td>0.549714</td>\n",
              "    </tr>\n",
              "    <tr>\n",
              "      <th>28</th>\n",
              "      <td>WINNERNUMBER_95_EVER</td>\n",
              "      <td>0.532877</td>\n",
              "    </tr>\n",
              "    <tr>\n",
              "      <th>29</th>\n",
              "      <td>F_contract_count_in_day</td>\n",
              "      <td>0.528195</td>\n",
              "    </tr>\n",
              "  </tbody>\n",
              "</table>\n",
              "</div>\n",
              "      <button class=\"colab-df-convert\" onclick=\"convertToInteractive('df-549c50a5-6f5f-432f-b74a-47b80dda75f9')\"\n",
              "              title=\"Convert this dataframe to an interactive table.\"\n",
              "              style=\"display:none;\">\n",
              "        \n",
              "  <svg xmlns=\"http://www.w3.org/2000/svg\" height=\"24px\"viewBox=\"0 0 24 24\"\n",
              "       width=\"24px\">\n",
              "    <path d=\"M0 0h24v24H0V0z\" fill=\"none\"/>\n",
              "    <path d=\"M18.56 5.44l.94 2.06.94-2.06 2.06-.94-2.06-.94-.94-2.06-.94 2.06-2.06.94zm-11 1L8.5 8.5l.94-2.06 2.06-.94-2.06-.94L8.5 2.5l-.94 2.06-2.06.94zm10 10l.94 2.06.94-2.06 2.06-.94-2.06-.94-.94-2.06-.94 2.06-2.06.94z\"/><path d=\"M17.41 7.96l-1.37-1.37c-.4-.4-.92-.59-1.43-.59-.52 0-1.04.2-1.43.59L10.3 9.45l-7.72 7.72c-.78.78-.78 2.05 0 2.83L4 21.41c.39.39.9.59 1.41.59.51 0 1.02-.2 1.41-.59l7.78-7.78 2.81-2.81c.8-.78.8-2.07 0-2.86zM5.41 20L4 18.59l7.72-7.72 1.47 1.35L5.41 20z\"/>\n",
              "  </svg>\n",
              "      </button>\n",
              "      \n",
              "  <style>\n",
              "    .colab-df-container {\n",
              "      display:flex;\n",
              "      flex-wrap:wrap;\n",
              "      gap: 12px;\n",
              "    }\n",
              "\n",
              "    .colab-df-convert {\n",
              "      background-color: #E8F0FE;\n",
              "      border: none;\n",
              "      border-radius: 50%;\n",
              "      cursor: pointer;\n",
              "      display: none;\n",
              "      fill: #1967D2;\n",
              "      height: 32px;\n",
              "      padding: 0 0 0 0;\n",
              "      width: 32px;\n",
              "    }\n",
              "\n",
              "    .colab-df-convert:hover {\n",
              "      background-color: #E2EBFA;\n",
              "      box-shadow: 0px 1px 2px rgba(60, 64, 67, 0.3), 0px 1px 3px 1px rgba(60, 64, 67, 0.15);\n",
              "      fill: #174EA6;\n",
              "    }\n",
              "\n",
              "    [theme=dark] .colab-df-convert {\n",
              "      background-color: #3B4455;\n",
              "      fill: #D2E3FC;\n",
              "    }\n",
              "\n",
              "    [theme=dark] .colab-df-convert:hover {\n",
              "      background-color: #434B5C;\n",
              "      box-shadow: 0px 1px 3px 1px rgba(0, 0, 0, 0.15);\n",
              "      filter: drop-shadow(0px 1px 2px rgba(0, 0, 0, 0.3));\n",
              "      fill: #FFFFFF;\n",
              "    }\n",
              "  </style>\n",
              "\n",
              "      <script>\n",
              "        const buttonEl =\n",
              "          document.querySelector('#df-549c50a5-6f5f-432f-b74a-47b80dda75f9 button.colab-df-convert');\n",
              "        buttonEl.style.display =\n",
              "          google.colab.kernel.accessAllowed ? 'block' : 'none';\n",
              "\n",
              "        async function convertToInteractive(key) {\n",
              "          const element = document.querySelector('#df-549c50a5-6f5f-432f-b74a-47b80dda75f9');\n",
              "          const dataTable =\n",
              "            await google.colab.kernel.invokeFunction('convertToInteractive',\n",
              "                                                     [key], {});\n",
              "          if (!dataTable) return;\n",
              "\n",
              "          const docLinkHtml = 'Like what you see? Visit the ' +\n",
              "            '<a target=\"_blank\" href=https://colab.research.google.com/notebooks/data_table.ipynb>data table notebook</a>'\n",
              "            + ' to learn more about interactive tables.';\n",
              "          element.innerHTML = '';\n",
              "          dataTable['output_type'] = 'display_data';\n",
              "          await google.colab.output.renderOutput(dataTable, element);\n",
              "          const docLink = document.createElement('div');\n",
              "          docLink.innerHTML = docLinkHtml;\n",
              "          element.appendChild(docLink);\n",
              "        }\n",
              "      </script>\n",
              "    </div>\n",
              "  </div>\n",
              "  "
            ],
            "text/plain": [
              "                        Feature Id  Importances\n",
              "0      F_contract_count_in_day_std    13.790187\n",
              "1                    OKVED_CODE_na     7.381221\n",
              "2            F_contract_count_mean     5.009237\n",
              "3                 F_contract_count     4.755740\n",
              "4                     OKVED_CODE_5     4.718441\n",
              "5       F_WORKERSRANGE_change_mean     3.263914\n",
              "6                     OKTMO_CODE_8     3.192605\n",
              "7                       OKVED_CODE     2.984926\n",
              "8                  DATEFIRSTREG_na     2.698245\n",
              "9                     OKVED_CODE_2     2.666958\n",
              "10                    OKVED_CODE_4     2.269244\n",
              "11                    WORKERSRANGE     1.941452\n",
              "12                OKATO_REGIONCODE     1.937230\n",
              "13                    OKTMO_FED_na     1.909569\n",
              "14                  TELEPHONECOUNT     1.798788\n",
              "15            TAXREGPAY_REGDATE_na     1.118135\n",
              "16                    OKATO_FED_na     1.096923\n",
              "17      RATIO_ADMIT_NUMBER_95_EVER     0.946915\n",
              "18       ADMITTEDNUMBER_95_YEAR_na     0.807959\n",
              "19                     OKOPF_GROUP     0.676855\n",
              "20                        F2340_na     0.676016\n",
              "21        RATIO_WIN_NUMBER_95_YEAR     0.654700\n",
              "22                            F_22     0.645109\n",
              "23        RATIO_WIN_NUMBER_95_EVER     0.635700\n",
              "24        day_from_first_SIGN_DATE     0.616018\n",
              "25                    OKTMO_CODE_2     0.610682\n",
              "26                  SUM_95_EVER_na     0.602478\n",
              "27  RATIO_ADMIT_NUMBER_95_EVER_std     0.549714\n",
              "28            WINNERNUMBER_95_EVER     0.532877\n",
              "29         F_contract_count_in_day     0.528195"
            ]
          },
          "metadata": {},
          "execution_count": 162
        }
      ]
    },
    {
      "cell_type": "code",
      "source": [
        "plt.figure(figsize=(12, 6));\n",
        "sns.barplot(x=\"Importances\", y=\"Feature Id\", data=feature_importance_df);\n",
        "plt.title('CatBoost features importance:');"
      ],
      "metadata": {
        "colab": {
          "base_uri": "https://localhost:8080/"
        },
        "id": "WWlF0PsnvIGG",
        "outputId": "be3d3245-d0a1-4e76-a961-372ac74d8cd4"
      },
      "execution_count": null,
      "outputs": [
        {
          "output_type": "display_data",
          "data": {
            "image/png": "[encoded data removed]",
            "text/plain": [
              "<Figure size 864x432 with 1 Axes>"
            ]
          },
          "metadata": {
            "needs_background": "light"
          }
        }
      ]
    },
    {
      "cell_type": "code",
      "source": [
        "train_data_cat = Pool(data=X_train_cat,\n",
        "                  label=y_train_cat,\n",
        "                  cat_features=cat_features\n",
        "                 )"
      ],
      "metadata": {
        "id": "pGdYK3imDUSp"
      },
      "execution_count": null,
      "outputs": []
    },
    {
      "cell_type": "code",
      "source": [
        "import shap\n",
        "explainer = shap.TreeExplainer(cbc_2) # insert your model\n",
        "shap_values = explainer.shap_values(train_data_cat) # insert your train Pool object"
      ],
      "metadata": {
        "id": "TiqSeAqRvXaY"
      },
      "execution_count": null,
      "outputs": []
    },
    {
      "cell_type": "code",
      "source": [
        "# shap.initjs()\n",
        "# shap.force_plot(explainer.expected_value, shap_values[:100,:], X_train.iloc[:100,:])"
      ],
      "metadata": {
        "id": "zQMkoOh1DvNs"
      },
      "execution_count": null,
      "outputs": []
    },
    {
      "cell_type": "code",
      "source": [
        "shap.summary_plot(shap_values, X_train_cat)"
      ],
      "metadata": {
        "colab": {
          "base_uri": "https://localhost:8080/"
        },
        "id": "K1UithVh0H9l",
        "outputId": "5ffa2edb-c056-4f82-9d81-08c443f71ce2"
      },
      "execution_count": null,
      "outputs": [
        {
          "output_type": "display_data",
          "data": {
            "image/png": "[encoded data removed]",
            "text/plain": [
              "<Figure size 576x684 with 2 Axes>"
            ]
          },
          "metadata": {
            "needs_background": "light"
          }
        }
      ]
    },
    {
      "cell_type": "markdown",
      "source": [
        "On the above diagram every client (instance/row in our dataset) is represented by one dot in each row. The x position of the dot is the impact of that feature on the model’s prediction, and the color of the dot represents the value of that feature for that exact employee. Dots that do not fit on the row pile up to show density."
      ],
      "metadata": {
        "id": "Ivh-JrjzEpBa"
      }
    },
    {
      "cell_type": "markdown",
      "source": [
        "https://www.kaggle.com/dansbecker/shap-values"
      ],
      "metadata": {
        "id": "mVDs9ZVLGTBR"
      }
    },
    {
      "cell_type": "markdown",
      "source": [
        "# Final model"
      ],
      "metadata": {
        "id": "6klYJgR7HOyX"
      }
    },
    {
      "cell_type": "markdown",
      "source": [
        "https://www.kaggle.com/bairamosmanov/tutorial-catboost-overview/edit"
      ],
      "metadata": {
        "id": "Bjf8ejUjHWq_"
      }
    },
    {
      "cell_type": "code",
      "source": [
        "%%time\n",
        "\n",
        "from sklearn.model_selection import StratifiedKFold\n",
        "\n",
        "n_fold = 4 # amount of data folds\n",
        "folds = StratifiedKFold(n_splits=n_fold, shuffle=True, random_state=SEED)\n",
        "\n",
        "params = {'loss_function':'Logloss',\n",
        "          'eval_metric':'AUC',\n",
        "          'verbose': 200,\n",
        "          'random_seed': SEED\n",
        "         }\n",
        "\n",
        "test_data = Pool(data=X_test_cat,\n",
        "                 cat_features=cat_features)\n",
        "\n",
        "scores = []\n",
        "prediction = np.zeros(X_test_cat.shape[0])\n",
        "for fold_n, (train_index, valid_index) in enumerate(folds.split(X, y)):\n",
        "    \n",
        "    X_train, X_valid = X.iloc[train_index], X.iloc[valid_index] # train and validation data splits\n",
        "    y_train, y_valid = y[train_index], y[valid_index]\n",
        "    \n",
        "    train_data = Pool(data=X_train, \n",
        "                      label=y_train,\n",
        "                      cat_features=cat_features)\n",
        "    valid_data = Pool(data=X_valid, \n",
        "                      label=y_valid,\n",
        "                      cat_features=cat_features)\n",
        "    \n",
        "    model = CatBoostClassifier(**params)\n",
        "    model.fit(train_data,\n",
        "              eval_set=valid_data, \n",
        "              use_best_model=True\n",
        "             )\n",
        "    \n",
        "    score = model.get_best_score()['validation']['AUC']\n",
        "    scores.append(score)\n",
        "\n",
        "    y_pred = model.predict_proba(test_data)[:, 1]\n",
        "    prediction += y_pred\n",
        "\n",
        "prediction /= n_fold\n",
        "print('CV mean: {:.4f}, CV std: {:.4f}'.format(np.mean(scores), np.std(scores)))"
      ],
      "metadata": {
        "id": "9iPyHtVeHU5u",
        "colab": {
          "base_uri": "https://localhost:8080/"
        },
        "outputId": "c9147073-9ca2-49da-e0ed-d3a3fcc7a4a0"
      },
      "execution_count": 65,
      "outputs": [
        {
          "output_type": "stream",
          "name": "stdout",
          "text": [
            "Learning rate set to 0.056952\n",
            "0:\ttest: 0.9010017\tbest: 0.9010017 (0)\ttotal: 149ms\tremaining: 2m 28s\n",
            "200:\ttest: 0.9635621\tbest: 0.9636104 (197)\ttotal: 32.8s\tremaining: 2m 10s\n",
            "400:\ttest: 0.9636903\tbest: 0.9638933 (234)\ttotal: 59.3s\tremaining: 1m 28s\n",
            "600:\ttest: 0.9625198\tbest: 0.9638933 (234)\ttotal: 1m 25s\tremaining: 57s\n",
            "800:\ttest: 0.9621751\tbest: 0.9638933 (234)\ttotal: 1m 52s\tremaining: 27.9s\n",
            "999:\ttest: 0.9621860\tbest: 0.9638933 (234)\ttotal: 2m 18s\tremaining: 0us\n",
            "\n",
            "bestTest = 0.9638932921\n",
            "bestIteration = 234\n",
            "\n",
            "Shrink model to first 235 iterations.\n",
            "Learning rate set to 0.056952\n",
            "0:\ttest: 0.9036054\tbest: 0.9036054 (0)\ttotal: 142ms\tremaining: 2m 22s\n",
            "200:\ttest: 0.9612307\tbest: 0.9614357 (158)\ttotal: 27.2s\tremaining: 1m 48s\n",
            "400:\ttest: 0.9615478\tbest: 0.9616367 (250)\ttotal: 53.6s\tremaining: 1m 20s\n",
            "600:\ttest: 0.9619599\tbest: 0.9619599 (600)\ttotal: 1m 19s\tremaining: 53.1s\n",
            "800:\ttest: 0.9621557\tbest: 0.9621922 (686)\ttotal: 1m 46s\tremaining: 26.4s\n",
            "999:\ttest: 0.9622402\tbest: 0.9623136 (925)\ttotal: 2m 12s\tremaining: 0us\n",
            "\n",
            "bestTest = 0.9623136156\n",
            "bestIteration = 925\n",
            "\n",
            "Shrink model to first 926 iterations.\n",
            "Learning rate set to 0.056952\n",
            "0:\ttest: 0.8975285\tbest: 0.8975285 (0)\ttotal: 143ms\tremaining: 2m 22s\n",
            "200:\ttest: 0.9592770\tbest: 0.9593427 (178)\ttotal: 27.3s\tremaining: 1m 48s\n",
            "400:\ttest: 0.9590895\tbest: 0.9593663 (364)\ttotal: 53.9s\tremaining: 1m 20s\n",
            "600:\ttest: 0.9591762\tbest: 0.9594091 (567)\ttotal: 1m 20s\tremaining: 53.4s\n",
            "800:\ttest: 0.9582109\tbest: 0.9594091 (567)\ttotal: 1m 46s\tremaining: 26.6s\n",
            "999:\ttest: 0.9580746\tbest: 0.9594091 (567)\ttotal: 2m 13s\tremaining: 0us\n",
            "\n",
            "bestTest = 0.9594091114\n",
            "bestIteration = 567\n",
            "\n",
            "Shrink model to first 568 iterations.\n",
            "Learning rate set to 0.056952\n",
            "0:\ttest: 0.9099207\tbest: 0.9099207 (0)\ttotal: 153ms\tremaining: 2m 32s\n",
            "200:\ttest: 0.9654902\tbest: 0.9655405 (199)\ttotal: 27.1s\tremaining: 1m 47s\n",
            "400:\ttest: 0.9660258\tbest: 0.9662462 (347)\ttotal: 53.6s\tremaining: 1m 20s\n",
            "600:\ttest: 0.9658895\tbest: 0.9664473 (455)\ttotal: 1m 21s\tremaining: 53.8s\n",
            "800:\ttest: 0.9654019\tbest: 0.9664473 (455)\ttotal: 1m 47s\tremaining: 26.8s\n",
            "999:\ttest: 0.9650123\tbest: 0.9664473 (455)\ttotal: 2m 14s\tremaining: 0us\n",
            "\n",
            "bestTest = 0.9664472893\n",
            "bestIteration = 455\n",
            "\n",
            "Shrink model to first 456 iterations.\n",
            "CV mean: 0.9630, CV std: 0.0026\n",
            "CPU times: user 15min 31s, sys: 1min 47s, total: 17min 19s\n",
            "Wall time: 9min 2s\n"
          ]
        }
      ]
    },
    {
      "cell_type": "code",
      "source": [
        "pickle_out = open(path_pikcle + \"cat_boost_model_final.pickle\", \"wb\")\n",
        "pickle.dump(model, pickle_out)\n",
        "pickle_out.close()"
      ],
      "metadata": {
        "id": "P9DWueteEQ6f"
      },
      "execution_count": 66,
      "outputs": []
    },
    {
      "cell_type": "markdown",
      "source": [
        "# Evaluate Model Performance\n",
        "\n"
      ],
      "metadata": {
        "id": "F36W8Ru8R3bI"
      }
    },
    {
      "cell_type": "code",
      "source": [
        "pickle_in = open(path_pikcle + \"cat_boost_model_final.pickle\", \"rb\")\n",
        "cat_boost_model_final = pickle.load(pickle_in)"
      ],
      "metadata": {
        "id": "phB685dx_z5Z"
      },
      "execution_count": 67,
      "outputs": []
    },
    {
      "cell_type": "code",
      "source": [
        "X_final = X_test_cat\n",
        "X_final.info()"
      ],
      "metadata": {
        "colab": {
          "base_uri": "https://localhost:8080/"
        },
        "id": "CqSXztwV-dbp",
        "outputId": "ea7e915e-8fec-4067-e85e-e1250a34b372"
      },
      "execution_count": 81,
      "outputs": [
        {
          "output_type": "stream",
          "name": "stdout",
          "text": [
            "<class 'pandas.core.frame.DataFrame'>\n",
            "RangeIndex: 3579 entries, 14312 to 17890\n",
            "Columns: 374 entries, OKTMO_CODE to MANAGERINNCOUNT_std\n",
            "dtypes: float64(218), int64(123), object(33)\n",
            "memory usage: 10.2+ MB\n"
          ]
        }
      ]
    },
    {
      "cell_type": "code",
      "source": [
        "Y_final = list_data[1].copy()[\"TARGET\"]\n",
        "Y_final"
      ],
      "metadata": {
        "colab": {
          "base_uri": "https://localhost:8080/"
        },
        "id": "t-dnl3g4HSVI",
        "outputId": "0df3eb99-9dc2-4d6c-a717-c85a07324914"
      },
      "execution_count": 82,
      "outputs": [
        {
          "output_type": "execute_result",
          "data": {
            "text/plain": [
              "14312    1\n",
              "14313    0\n",
              "14314    0\n",
              "14315    1\n",
              "14316    0\n",
              "        ..\n",
              "17886    1\n",
              "17887    1\n",
              "17888    1\n",
              "17889    0\n",
              "17890    0\n",
              "Name: TARGET, Length: 3579, dtype: int64"
            ]
          },
          "metadata": {},
          "execution_count": 82
        }
      ]
    },
    {
      "cell_type": "code",
      "source": [
        "cat_boost_model_final.score(X_final, Y_final).round(4)"
      ],
      "metadata": {
        "colab": {
          "base_uri": "https://localhost:8080/"
        },
        "id": "y4MhLEoDGqaf",
        "outputId": "adf719e5-66d1-4c9d-be24-dcc3d12bc8ce"
      },
      "execution_count": 90,
      "outputs": [
        {
          "output_type": "execute_result",
          "data": {
            "text/plain": [
              "0.9084"
            ]
          },
          "metadata": {},
          "execution_count": 90
        }
      ]
    },
    {
      "cell_type": "markdown",
      "source": [
        "**Final score on unseen test data - 0.9084**"
      ],
      "metadata": {
        "id": "brnSUJ-bLIS-"
      }
    },
    {
      "cell_type": "markdown",
      "source": [
        "# Tune Model with Hyper-Parameters"
      ],
      "metadata": {
        "id": "nd3AjQboS0VB"
      }
    },
    {
      "cell_type": "markdown",
      "source": [
        "# Tune Model with Feature Selection"
      ],
      "metadata": {
        "id": "V4KTDCy-S68O"
      }
    },
    {
      "cell_type": "markdown",
      "source": [
        "# Validate and Implement"
      ],
      "metadata": {
        "id": "Dp26Tb3nTAO_"
      }
    },
    {
      "cell_type": "markdown",
      "source": [
        "# Optimize and Strategize"
      ],
      "metadata": {
        "id": "pxJQJrbTTGzB"
      }
    },
    {
      "cell_type": "markdown",
      "source": [
        "# Future Research"
      ],
      "metadata": {
        "id": "Gs_8f1Ptiz3C"
      }
    }
  ]
}